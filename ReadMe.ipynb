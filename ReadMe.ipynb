{
 "cells": [
  {
   "cell_type": "markdown",
   "metadata": {
    "ExecuteTime": {
     "end_time": "2019-11-02T14:17:19.683756Z",
     "start_time": "2019-11-02T14:17:19.679776Z"
    }
   },
   "source": [
    "# Indroduction\n",
    "<img src='investigation.jpg'>\n",
    "\n",
    "Working with the Northwind Database, we will be using hypothesis testing to answer a few questions about company practice, and to make recommendations based on the conclusions of the analysis performed for each question.  Below is the Schema of our Database.\n",
    "<img src=\"Northwind_ERD_updated.png\">\n",
    "\n",
    "The questions we will attempt to answer are as follows:\n",
    "\n",
    "> ### [Q1 -](#question_1) We are attempting to learn if discount amount has a statistically significant effect on the quantity of a product in an order? If so, at what level(s) of discount? \n",
    "\n",
    "> ### [Q2 -](#question_2) We are going to investigate the effect region has on the sales per unit. Is it more profitable to sell Locally, or Abroad?\n",
    "\n",
    "> ### [Q3 -](#question_3) We will investigate the effect of employment length on average order total\n",
    "\n",
    "> ### [Q4 -](#question_4) Are sales related to Employee location?"
   ]
  },
  {
   "cell_type": "markdown",
   "metadata": {},
   "source": [
    "***"
   ]
  },
  {
   "cell_type": "markdown",
   "metadata": {},
   "source": [
    "<a id=\"question_1\"></a>\n",
    "## Q1 - [View the Q1 Notebook](http://localhost:8888/notebooks/Question_1.ipynb)\n",
    "\n",
    "### Does discount level have a significant effect on order quantity?\n",
    "\n",
    "> __H0__ - $\\mu1 == \\mu2$ Mean Discount are __equal__ to Mean Order Quantity.<br>\n",
    "__HA__ - $\\mu1 != \\mu2$ Mean Diacount are __not equal__ to Mean Order Quantity.\n",
    "\n",
    "- If __H0__ is rejected, the levels of significance will be investigated.\n",
    "\n",
    "<img align='center' src='Disc_vs_nondisc.png' width=500>\n",
    "From this graph we were able to clearly see that discount level has an effect on our order quantity.\n",
    "\n",
    "```\n",
    "scs.ttest_ind(disc_sample_means, non_disc_sample_means)\n",
    "```\n",
    "Ttest_indResult(statistic=40.549810991713066, pvalue=2.9180092809123824e-44)\n",
    "\n",
    "With a __P Value of 0__ we can conclude that our means are not equal, thus __rejecting our null hypothesis, H0__\n",
    "\n",
    "***\n",
    "#### Part 2 - At what level is discount most significant?\n",
    "After separating the data into discount levels, we performed a sampling means to normalize the data, the resulting distributions can be seen below.\n",
    "\n",
    "<img align='center' src='Part2_distplot.JPG' width=400>\n",
    "\n",
    "We then performed a __Students T-Test__ and determined that with an effect size of .43, the 15% discount level is the most effective.\n",
    "\n",
    "__Recomendations__  \n",
    "- From these results, we recomend that all __discounts below 10 are dropped__, as they do not prove significant.\n",
    "- For all products where an increase in order quantity is desired, we __recommend offering a 15% discount__."
   ]
  },
  {
   "cell_type": "markdown",
   "metadata": {},
   "source": [
    "<a id=\"question_2\"></a>\n",
    "# Q2 -  [View the Q2 Notebook](http://localhost:8888/notebooks/Question_2.ipynb)\n",
    "\n",
    "### We are going to investigate the effect region has on the sales per unit. Is it more profitable to sell Locally, or Abroad?\n",
    "\n",
    "> __H0__ - $\\mu_1 == \\mu_2$ Mean Region is __equal__ to Mean Unit Sales.<br>\n",
    "__HA__ - $\\mu_1 != \\mu_2$ Mean Region is __NOT equal__ to Mean Unit Sales.\n",
    "\n",
    "After separating the data into Regions, we ploted them to visualize the distributions.\n",
    "\n",
    "<img align='center' src='q2_histograms.PNG' width=400>\n",
    "\n",
    "With the data normalized, we were able to perform an Anova test.\n",
    "\n",
    "The test revealed that we can __reject the Null H0__\n",
    "\n",
    "__Recommendations:__\n",
    "- With a probability factor of .85, Northern Europe has the most effect on sales, so focus should be aimed at Northern Europe."
   ]
  },
  {
   "cell_type": "markdown",
   "metadata": {},
   "source": [
    "***"
   ]
  },
  {
   "cell_type": "markdown",
   "metadata": {},
   "source": [
    "<a id=\"question_3\"></a>\n",
    "# Q3 -  [View the Q3 Notebook](http://localhost:8888/notebooks/Question_3.ipynb)\n",
    "\n",
    "### We will investigate the effect of employment length on average order total\n",
    "\n",
    "> _H0_ - $\\mu_1 == \\mu_2$ Mean Employment Length is __equal__ Mean Total Price.<br>\n",
    "_HA_ - $\\mu_1 != \\mu_2$ Mean Employment Length is __NOT equal__ Mean Sales Per Unit.\n",
    "\n",
    "We first created a column which reflected the total price of each order.\n",
    "Next we had to calculate the number of days each salesman has been with the company.\n",
    "\n",
    "<img align='center' src='Q3_employment_len.PNG' width=400>\n",
    "\n",
    "With the data normalized, we learned that the variances were not equal, so we decided to use the Kruskal-Wallis test.\n",
    "\n",
    "the resulting p-value indicated that the data is from the same distribution\n",
    "Thus, __we fail to reject the Null__"
   ]
  },
  {
   "cell_type": "markdown",
   "metadata": {
    "ExecuteTime": {
     "end_time": "2019-11-13T16:09:26.150846Z",
     "start_time": "2019-11-13T16:09:26.143866Z"
    }
   },
   "source": [
    "***"
   ]
  },
  {
   "cell_type": "markdown",
   "metadata": {},
   "source": [
    "<a id=\"question_4\"></a>\n",
    "# Q4 - [View the Q4 Notebook](http://localhost:8888/notebooks/Question_4.ipynb)\n",
    "\n",
    "####  Are sales related to Employee location?\n",
    "\n",
    "> __H0__ - $\\mu_1 == \\mu_2$ Mean Employee Region is __equal__ Mean Total Price.<br>\n",
    "__HA__ - $\\mu_1 != \\mu_2$ Mean Employee Region is __NOT equal__ Mean Total Price.\n",
    "\n",
    "\n",
    "For this question, we organized the data by the salesmans country.\n",
    "There are only 2 locations: USA, and Uk and we coded them numerically as shown below.\n",
    "\n",
    "<img align='center' src='q4_df.PNG' width=300>\n",
    "\n",
    "#### Conclusion\n",
    "- The effect size and the power here tell us that there is a relationship between sales and region,<br>\n",
    "- Employees in the USA have a greater effect on total sales than the overall sales in general\n",
    "Thus, we __reject the null H0__\n",
    "\n",
    "#### Recommendations: \n",
    "* Focus on the team in the USA, they have higher sales than the others.\n",
    "* USA may be a good candidate for training new employees.\n"
   ]
  },
  {
   "cell_type": "markdown",
   "metadata": {},
   "source": []
  }
 ],
 "metadata": {
  "kernelspec": {
   "display_name": "Python [conda env:learn-env] *",
   "language": "python",
   "name": "conda-env-learn-env-py"
  },
  "language_info": {
   "codemirror_mode": {
    "name": "ipython",
    "version": 3
   },
   "file_extension": ".py",
   "mimetype": "text/x-python",
   "name": "python",
   "nbconvert_exporter": "python",
   "pygments_lexer": "ipython3",
   "version": "3.6.6"
  },
  "toc": {
   "base_numbering": 1,
   "nav_menu": {},
   "number_sections": false,
   "sideBar": true,
   "skip_h1_title": false,
   "title_cell": "Table of Contents",
   "title_sidebar": "Contents",
   "toc_cell": false,
   "toc_position": {},
   "toc_section_display": true,
   "toc_window_display": false
  },
  "varInspector": {
   "cols": {
    "lenName": 16,
    "lenType": 16,
    "lenVar": 40
   },
   "kernels_config": {
    "python": {
     "delete_cmd_postfix": "",
     "delete_cmd_prefix": "del ",
     "library": "var_list.py",
     "varRefreshCmd": "print(var_dic_list())"
    },
    "r": {
     "delete_cmd_postfix": ") ",
     "delete_cmd_prefix": "rm(",
     "library": "var_list.r",
     "varRefreshCmd": "cat(var_dic_list()) "
    }
   },
   "types_to_exclude": [
    "module",
    "function",
    "builtin_function_or_method",
    "instance",
    "_Feature"
   ],
   "window_display": false
  }
 },
 "nbformat": 4,
 "nbformat_minor": 2
}
