{
 "cells": [
  {
   "cell_type": "markdown",
   "metadata": {
    "ExecuteTime": {
     "end_time": "2019-11-03T23:47:58.313617Z",
     "start_time": "2019-11-03T23:47:58.308628Z"
    }
   },
   "source": [
    "# Setting Up Our Workspace."
   ]
  },
  {
   "cell_type": "markdown",
   "metadata": {},
   "source": [
    "#### Importing necessary libraries"
   ]
  },
  {
   "cell_type": "code",
   "execution_count": 1,
   "metadata": {
    "ExecuteTime": {
     "end_time": "2019-11-13T14:44:15.311237Z",
     "start_time": "2019-11-13T14:44:13.645663Z"
    }
   },
   "outputs": [
    {
     "data": {
      "text/plain": [
       "<module 'helper_functions' from 'C:\\\\Users\\\\Owner\\\\Desktop\\\\Data Science\\\\Flatiron_Projects\\\\dsc-mod-3-project-online-ds-ft-090919\\\\helper_functions.py'>"
      ]
     },
     "execution_count": 1,
     "metadata": {},
     "output_type": "execute_result"
    }
   ],
   "source": [
    "from importlib import reload\n",
    "# custom functions \n",
    "import helper_functions as hf\n",
    "\n",
    "import sqlite3\n",
    "\n",
    "import numpy as np\n",
    "from numpy import std, mean, sqrt\n",
    "import pandas as pd\n",
    "import seaborn as sns\n",
    "\n",
    "import scipy.stats as scs\n",
    "import matplotlib.pyplot as plt\n",
    "from statsmodels.stats.power import tt_ind_solve_power\n",
    "import statsmodels.api as sm\n",
    "from statsmodels.formula.api import ols\n",
    "from statsmodels.stats.multicomp import MultiComparison\n",
    "from statsmodels.stats.multicomp import pairwise_tukeyhsd\n",
    "import warnings\n",
    "warnings.filterwarnings('ignore')\n",
    "reload(hf )"
   ]
  },
  {
   "cell_type": "markdown",
   "metadata": {},
   "source": [
    "#### Setting Up The Connection to the Database"
   ]
  },
  {
   "cell_type": "code",
   "execution_count": 2,
   "metadata": {
    "ExecuteTime": {
     "end_time": "2019-11-13T14:44:15.344146Z",
     "start_time": "2019-11-13T14:44:15.333148Z"
    }
   },
   "outputs": [],
   "source": [
    "# Setting up the connection to the database\n",
    "conn, cursor = hf.connection()"
   ]
  },
  {
   "cell_type": "code",
   "execution_count": 3,
   "metadata": {
    "ExecuteTime": {
     "end_time": "2019-11-13T14:44:15.381024Z",
     "start_time": "2019-11-13T14:44:15.370049Z"
    }
   },
   "outputs": [
    {
     "data": {
      "text/plain": [
       "[('Employee',),\n",
       " ('Category',),\n",
       " ('Customer',),\n",
       " ('Shipper',),\n",
       " ('Supplier',),\n",
       " ('Order',),\n",
       " ('Product',),\n",
       " ('OrderDetail',),\n",
       " ('CustomerCustomerDemo',),\n",
       " ('CustomerDemographic',),\n",
       " ('Region',),\n",
       " ('Territory',),\n",
       " ('EmployeeTerritory',)]"
      ]
     },
     "execution_count": 3,
     "metadata": {},
     "output_type": "execute_result"
    }
   ],
   "source": [
    "hf.get_tables(cursor)"
   ]
  },
  {
   "cell_type": "markdown",
   "metadata": {},
   "source": [
    "# Q2 - We are going to investigate the effect region has on the sales per unit. Is it more profitable to sell Locally, or Abroad?"
   ]
  },
  {
   "cell_type": "markdown",
   "metadata": {},
   "source": [
    "H0 - Region does __NOT__ have a statistically significant effect on sales per unit.<br>\n",
    "HA - Region __DOES__ have a statistically significant effect on sales per unit."
   ]
  },
  {
   "cell_type": "code",
   "execution_count": 4,
   "metadata": {
    "ExecuteTime": {
     "end_time": "2019-11-13T14:44:16.785371Z",
     "start_time": "2019-11-13T14:44:16.749470Z"
    }
   },
   "outputs": [
    {
     "data": {
      "text/html": [
       "<div>\n",
       "<style scoped>\n",
       "    .dataframe tbody tr th:only-of-type {\n",
       "        vertical-align: middle;\n",
       "    }\n",
       "\n",
       "    .dataframe tbody tr th {\n",
       "        vertical-align: top;\n",
       "    }\n",
       "\n",
       "    .dataframe thead th {\n",
       "        text-align: right;\n",
       "    }\n",
       "</style>\n",
       "<table border=\"1\" class=\"dataframe\">\n",
       "  <thead>\n",
       "    <tr style=\"text-align: right;\">\n",
       "      <th></th>\n",
       "      <th>Region</th>\n",
       "      <th>OrderId</th>\n",
       "      <th>Quantity</th>\n",
       "      <th>UnitPrice</th>\n",
       "      <th>Discount</th>\n",
       "      <th>PriceperOrder</th>\n",
       "    </tr>\n",
       "  </thead>\n",
       "  <tbody>\n",
       "    <tr>\n",
       "      <th>0</th>\n",
       "      <td>Western Europe</td>\n",
       "      <td>10248</td>\n",
       "      <td>12</td>\n",
       "      <td>14.0</td>\n",
       "      <td>0.0</td>\n",
       "      <td>168.0</td>\n",
       "    </tr>\n",
       "    <tr>\n",
       "      <th>1</th>\n",
       "      <td>Western Europe</td>\n",
       "      <td>10248</td>\n",
       "      <td>10</td>\n",
       "      <td>9.8</td>\n",
       "      <td>0.0</td>\n",
       "      <td>98.0</td>\n",
       "    </tr>\n",
       "    <tr>\n",
       "      <th>2</th>\n",
       "      <td>Western Europe</td>\n",
       "      <td>10248</td>\n",
       "      <td>5</td>\n",
       "      <td>34.8</td>\n",
       "      <td>0.0</td>\n",
       "      <td>174.0</td>\n",
       "    </tr>\n",
       "    <tr>\n",
       "      <th>3</th>\n",
       "      <td>Western Europe</td>\n",
       "      <td>10249</td>\n",
       "      <td>9</td>\n",
       "      <td>18.6</td>\n",
       "      <td>0.0</td>\n",
       "      <td>167.4</td>\n",
       "    </tr>\n",
       "    <tr>\n",
       "      <th>4</th>\n",
       "      <td>Western Europe</td>\n",
       "      <td>10249</td>\n",
       "      <td>40</td>\n",
       "      <td>42.4</td>\n",
       "      <td>0.0</td>\n",
       "      <td>1696.0</td>\n",
       "    </tr>\n",
       "  </tbody>\n",
       "</table>\n",
       "</div>"
      ],
      "text/plain": [
       "           Region  OrderId  Quantity  UnitPrice  Discount  PriceperOrder\n",
       "0  Western Europe    10248        12       14.0       0.0          168.0\n",
       "1  Western Europe    10248        10        9.8       0.0           98.0\n",
       "2  Western Europe    10248         5       34.8       0.0          174.0\n",
       "3  Western Europe    10249         9       18.6       0.0          167.4\n",
       "4  Western Europe    10249        40       42.4       0.0         1696.0"
      ]
     },
     "execution_count": 4,
     "metadata": {},
     "output_type": "execute_result"
    }
   ],
   "source": [
    "query = ('''SELECT c.Region, od.OrderId, od.Quantity, od.UnitPrice, od.Discount, \n",
    "(od.Quantity * od.UnitPrice * (1-od.Discount)) PriceperOrder FROM Customer c \n",
    "JOIN [Order] o on c.Id=o.CustomerId\n",
    "JOIN [OrderDetail] od on od.OrderId=o.Id''')\n",
    "df = hf.query_to_df(query, conn)\n",
    "df.head()"
   ]
  },
  {
   "cell_type": "markdown",
   "metadata": {
    "ExecuteTime": {
     "end_time": "2019-11-09T17:09:35.758444Z",
     "start_time": "2019-11-09T17:09:35.751465Z"
    }
   },
   "source": [
    "Lets engineer a feature which calcultes the average price per unit."
   ]
  },
  {
   "cell_type": "code",
   "execution_count": 5,
   "metadata": {
    "ExecuteTime": {
     "end_time": "2019-11-13T14:44:18.049159Z",
     "start_time": "2019-11-13T14:44:17.926942Z"
    }
   },
   "outputs": [
    {
     "data": {
      "text/html": [
       "<div>\n",
       "<style scoped>\n",
       "    .dataframe tbody tr th:only-of-type {\n",
       "        vertical-align: middle;\n",
       "    }\n",
       "\n",
       "    .dataframe tbody tr th {\n",
       "        vertical-align: top;\n",
       "    }\n",
       "\n",
       "    .dataframe thead th {\n",
       "        text-align: right;\n",
       "    }\n",
       "</style>\n",
       "<table border=\"1\" class=\"dataframe\">\n",
       "  <thead>\n",
       "    <tr style=\"text-align: right;\">\n",
       "      <th></th>\n",
       "      <th>Region</th>\n",
       "      <th>OrderId</th>\n",
       "      <th>Quantity</th>\n",
       "      <th>UnitPrice</th>\n",
       "      <th>Discount</th>\n",
       "      <th>PriceperOrder</th>\n",
       "      <th>PriceperUnit</th>\n",
       "    </tr>\n",
       "  </thead>\n",
       "  <tbody>\n",
       "    <tr>\n",
       "      <th>0</th>\n",
       "      <td>Western Europe</td>\n",
       "      <td>10248</td>\n",
       "      <td>12</td>\n",
       "      <td>14.0</td>\n",
       "      <td>0.0</td>\n",
       "      <td>168.0</td>\n",
       "      <td>14.0</td>\n",
       "    </tr>\n",
       "    <tr>\n",
       "      <th>1</th>\n",
       "      <td>Western Europe</td>\n",
       "      <td>10248</td>\n",
       "      <td>10</td>\n",
       "      <td>9.8</td>\n",
       "      <td>0.0</td>\n",
       "      <td>98.0</td>\n",
       "      <td>9.8</td>\n",
       "    </tr>\n",
       "    <tr>\n",
       "      <th>2</th>\n",
       "      <td>Western Europe</td>\n",
       "      <td>10248</td>\n",
       "      <td>5</td>\n",
       "      <td>34.8</td>\n",
       "      <td>0.0</td>\n",
       "      <td>174.0</td>\n",
       "      <td>34.8</td>\n",
       "    </tr>\n",
       "    <tr>\n",
       "      <th>3</th>\n",
       "      <td>Western Europe</td>\n",
       "      <td>10249</td>\n",
       "      <td>9</td>\n",
       "      <td>18.6</td>\n",
       "      <td>0.0</td>\n",
       "      <td>167.4</td>\n",
       "      <td>18.6</td>\n",
       "    </tr>\n",
       "    <tr>\n",
       "      <th>4</th>\n",
       "      <td>Western Europe</td>\n",
       "      <td>10249</td>\n",
       "      <td>40</td>\n",
       "      <td>42.4</td>\n",
       "      <td>0.0</td>\n",
       "      <td>1696.0</td>\n",
       "      <td>42.4</td>\n",
       "    </tr>\n",
       "  </tbody>\n",
       "</table>\n",
       "</div>"
      ],
      "text/plain": [
       "           Region  OrderId  Quantity  UnitPrice  Discount  PriceperOrder  \\\n",
       "0  Western Europe    10248        12       14.0       0.0          168.0   \n",
       "1  Western Europe    10248        10        9.8       0.0           98.0   \n",
       "2  Western Europe    10248         5       34.8       0.0          174.0   \n",
       "3  Western Europe    10249         9       18.6       0.0          167.4   \n",
       "4  Western Europe    10249        40       42.4       0.0         1696.0   \n",
       "\n",
       "   PriceperUnit  \n",
       "0          14.0  \n",
       "1           9.8  \n",
       "2          34.8  \n",
       "3          18.6  \n",
       "4          42.4  "
      ]
     },
     "execution_count": 5,
     "metadata": {},
     "output_type": "execute_result"
    }
   ],
   "source": [
    "df['PriceperUnit'] = df.apply(lambda row: row['PriceperOrder'] / row['Quantity'], axis=1)\n",
    "df.head()"
   ]
  },
  {
   "cell_type": "markdown",
   "metadata": {},
   "source": [
    "Let's take a look at the data"
   ]
  },
  {
   "cell_type": "code",
   "execution_count": 6,
   "metadata": {
    "ExecuteTime": {
     "end_time": "2019-11-13T14:44:19.066224Z",
     "start_time": "2019-11-13T14:44:19.059245Z"
    }
   },
   "outputs": [
    {
     "data": {
      "text/plain": [
       "array(['Western Europe', 'South America', 'Central America',\n",
       "       'North America', 'Northern Europe', 'Scandinavia',\n",
       "       'Southern Europe', 'British Isles', 'Eastern Europe'], dtype=object)"
      ]
     },
     "execution_count": 6,
     "metadata": {},
     "output_type": "execute_result"
    }
   ],
   "source": [
    "df.Region.unique()"
   ]
  },
  {
   "cell_type": "code",
   "execution_count": 7,
   "metadata": {
    "ExecuteTime": {
     "end_time": "2019-11-13T14:44:19.684816Z",
     "start_time": "2019-11-13T14:44:19.672849Z"
    }
   },
   "outputs": [
    {
     "name": "stdout",
     "output_type": "stream",
     "text": [
      "<class 'pandas.core.frame.DataFrame'>\n",
      "RangeIndex: 2078 entries, 0 to 2077\n",
      "Data columns (total 7 columns):\n",
      "Region           2078 non-null object\n",
      "OrderId          2078 non-null int64\n",
      "Quantity         2078 non-null int64\n",
      "UnitPrice        2078 non-null float64\n",
      "Discount         2078 non-null float64\n",
      "PriceperOrder    2078 non-null float64\n",
      "PriceperUnit     2078 non-null float64\n",
      "dtypes: float64(4), int64(2), object(1)\n",
      "memory usage: 113.7+ KB\n"
     ]
    }
   ],
   "source": [
    "df.info()"
   ]
  },
  {
   "cell_type": "code",
   "execution_count": 8,
   "metadata": {
    "ExecuteTime": {
     "end_time": "2019-11-13T14:44:21.464055Z",
     "start_time": "2019-11-13T14:44:20.276234Z"
    }
   },
   "outputs": [
    {
     "data": {
      "text/plain": [
       "array([[<matplotlib.axes._subplots.AxesSubplot object at 0x000001C39DA125F8>,\n",
       "        <matplotlib.axes._subplots.AxesSubplot object at 0x000001C39DCB15F8>,\n",
       "        <matplotlib.axes._subplots.AxesSubplot object at 0x000001C39DCD8B38>],\n",
       "       [<matplotlib.axes._subplots.AxesSubplot object at 0x000001C39DD080F0>,\n",
       "        <matplotlib.axes._subplots.AxesSubplot object at 0x000001C39DD2D668>,\n",
       "        <matplotlib.axes._subplots.AxesSubplot object at 0x000001C39DD52BE0>],\n",
       "       [<matplotlib.axes._subplots.AxesSubplot object at 0x000001C39DD83198>,\n",
       "        <matplotlib.axes._subplots.AxesSubplot object at 0x000001C39DDAA748>,\n",
       "        <matplotlib.axes._subplots.AxesSubplot object at 0x000001C39DDAA780>]],\n",
       "      dtype=object)"
      ]
     },
     "execution_count": 8,
     "metadata": {},
     "output_type": "execute_result"
    },
    {
     "data": {
      "image/png": "[encoded data removed]",
      "text/plain": [
       "<Figure size 576x576 with 9 Axes>"
      ]
     },
     "metadata": {
      "needs_background": "light"
     },
     "output_type": "display_data"
    }
   ],
   "source": [
    "df.hist('PriceperUnit', by='Region', figsize=(8,8), bins=10)"
   ]
  },
  {
   "cell_type": "markdown",
   "metadata": {},
   "source": [
    "Lets check to see if the data is normally distributed.  From the histograms above, it appears that it is not, but we will use the Shapiro Test to check."
   ]
  },
  {
   "cell_type": "code",
   "execution_count": 9,
   "metadata": {
    "ExecuteTime": {
     "end_time": "2019-11-13T14:44:22.148274Z",
     "start_time": "2019-11-13T14:44:22.115332Z"
    }
   },
   "outputs": [
    {
     "name": "stdout",
     "output_type": "stream",
     "text": [
      "british_isles\n",
      "p= 3.3124803648221636e-16\n",
      " The data is not normally distributed.\n",
      "False\n",
      "central_america\n",
      "p= 7.305543431486428e-13\n",
      " The data is not normally distributed.\n",
      "False\n",
      "eastern_europe\n",
      "p= 0.02098287083208561\n",
      " The data is not normally distributed.\n",
      "False\n",
      "north_america\n",
      "p= 2.026530954982515e-32\n",
      " The data is not normally distributed.\n",
      "False\n",
      "northern_europe\n",
      "p= 1.859561212131792e-19\n",
      " The data is not normally distributed.\n",
      "False\n",
      "scandinavia\n",
      "p= 1.597113995146105e-14\n",
      " The data is not normally distributed.\n",
      "False\n",
      "south_america\n",
      "p= 1.4154092495539283e-29\n",
      " The data is not normally distributed.\n",
      "False\n",
      "southern_europe\n",
      "p= 6.458760054019706e-15\n",
      " The data is not normally distributed.\n",
      "False\n",
      "western_europe\n",
      "p= 2.354950732922607e-39\n",
      " The data is not normally distributed.\n",
      "False\n"
     ]
    }
   ],
   "source": [
    "british_isles = df.loc[df['Region'] == 'British Isles']\n",
    "central_america = df.loc[df['Region'] == 'Central America']\n",
    "eastern_europe = df.loc[df['Region'] == 'Eastern Europe']\n",
    "north_america = df.loc[df['Region'] == 'North America']\n",
    "northern_europe = df.loc[df['Region'] == 'Northern Europe']\n",
    "scandinavia = df.loc[df['Region'] == 'Scandinavia']\n",
    "south_america = df.loc[df['Region'] == 'South America']\n",
    "southern_europe = df.loc[df['Region'] == 'Southern Europe']\n",
    "western_europe = df.loc[df['Region'] == 'Western Europe']\n",
    "\n",
    "british_isles = british_isles['PriceperUnit']\n",
    "central_america = central_america['PriceperUnit']\n",
    "eastern_europe = eastern_europe['PriceperUnit']\n",
    "north_america = north_america['PriceperUnit']\n",
    "northern_europe = northern_europe['PriceperUnit']\n",
    "scandinavia = scandinavia['PriceperUnit']\n",
    "south_america = south_america['PriceperUnit']\n",
    "southern_europe = southern_europe['PriceperUnit']\n",
    "western_europe = western_europe['PriceperUnit']\n",
    "\n",
    "print('british_isles')\n",
    "print(hf.test_normality(british_isles))\n",
    "print('central_america')\n",
    "print(hf.test_normality(central_america))\n",
    "print('eastern_europe')\n",
    "print(hf.test_normality(eastern_europe))\n",
    "print('north_america')\n",
    "print(hf.test_normality(north_america))\n",
    "print('northern_europe')\n",
    "print(hf.test_normality(northern_europe))\n",
    "print('scandinavia')\n",
    "print(hf.test_normality(scandinavia))\n",
    "print('south_america')\n",
    "print(hf.test_normality(south_america))\n",
    "print('southern_europe')\n",
    "print(hf.test_normality(southern_europe))\n",
    "print('western_europe')\n",
    "print(hf.test_normality(western_europe))\n",
    "\n"
   ]
  },
  {
   "cell_type": "markdown",
   "metadata": {},
   "source": [
    "We have determined that the data is __NOT__ normally distributed.\n",
    "We will perform a sampling distribution to get it more normal"
   ]
  },
  {
   "cell_type": "code",
   "execution_count": 10,
   "metadata": {
    "ExecuteTime": {
     "end_time": "2019-11-13T14:44:23.581006Z",
     "start_time": "2019-11-13T14:44:23.566007Z"
    }
   },
   "outputs": [],
   "source": [
    "british_islesmean = np.mean(british_isles)\n",
    "british_islesstd = np.std(british_isles, ddof=1)\n",
    "\n",
    "samp_british_isles = np.random.normal(loc=british_islesmean, scale=british_islesstd, size=100)\n",
    "\n",
    "central_americamean = np.mean(central_america)\n",
    "central_americastd = np.std(central_america, ddof=1)\n",
    "\n",
    "samp_central_america = np.random.normal(loc=central_americamean, scale=central_americastd, size=100)\n",
    "\n",
    "eastern_europemean = np.mean(eastern_europe)\n",
    "eastern_europestd = np.std(eastern_europe, ddof=1)\n",
    "\n",
    "samp_eastern_europe = np.random.normal(loc=eastern_europemean, scale=eastern_europestd, size=100)\n",
    "\n",
    "north_americamean = np.mean(north_america)\n",
    "north_americastd = np.std(north_america, ddof=1)\n",
    "\n",
    "samp_north_america = np.random.normal(loc=north_americamean, scale=north_americastd, size=100)\n",
    "\n",
    "northern_europemean = np.mean(northern_europe)\n",
    "northern_europestd = np.std(northern_europe, ddof=1)\n",
    "\n",
    "samp_northern_europe = np.random.normal(loc=northern_europemean, scale=northern_europestd, size=100)\n",
    "\n",
    "scandinaviamean = np.mean(scandinavia)\n",
    "scandinaviastd = np.std(scandinavia, ddof=1)\n",
    "\n",
    "samp_scandinavia = np.random.normal(loc=scandinaviamean, scale=scandinaviastd, size=100)\n",
    "\n",
    "south_americamean = np.mean(south_america)\n",
    "south_americastd = np.std(south_america, ddof=1)\n",
    "\n",
    "samp_south_america = np.random.normal(loc=south_americamean, scale=south_americastd, size=100)\n",
    "\n",
    "southern_europemean = np.mean(southern_europe)\n",
    "southern_europestd = np.std(southern_europe, ddof=1)\n",
    "\n",
    "samp_southern_europe = np.random.normal(loc=southern_europemean, scale=southern_europestd, size=100)\n",
    "\n",
    "western_europemean = np.mean(western_europe)\n",
    "western_europestd = np.std(western_europe, ddof=1)\n",
    "\n",
    "samp_western_europe = np.random.normal(loc=western_europemean, scale=western_europestd, size=100)"
   ]
  },
  {
   "cell_type": "code",
   "execution_count": 11,
   "metadata": {
    "ExecuteTime": {
     "end_time": "2019-11-13T14:44:25.107952Z",
     "start_time": "2019-11-13T14:44:24.673084Z"
    }
   },
   "outputs": [
    {
     "data": {
      "text/plain": [
       "<matplotlib.axes._subplots.AxesSubplot at 0x1c39e15d908>"
      ]
     },
     "execution_count": 11,
     "metadata": {},
     "output_type": "execute_result"
    },
    {
     "data": {
      "image/png": "[encoded data removed]",
      "text/plain": [
       "<Figure size 432x288 with 1 Axes>"
      ]
     },
     "metadata": {
      "needs_background": "light"
     },
     "output_type": "display_data"
    }
   ],
   "source": [
    "\n",
    "sns.distplot(samp_british_isles)\n",
    "sns.distplot(samp_central_america)\n",
    "sns.distplot(samp_eastern_europe)\n",
    "sns.distplot(samp_north_america)\n",
    "sns.distplot(samp_northern_europe)\n",
    "sns.distplot(samp_scandinavia)\n",
    "sns.distplot(samp_south_america)\n",
    "sns.distplot(samp_southern_europe)\n",
    "sns.distplot(samp_western_europe)"
   ]
  },
  {
   "cell_type": "markdown",
   "metadata": {},
   "source": [
    "It looks as though the data is more normal now, but we will double check with the Shapiro test."
   ]
  },
  {
   "cell_type": "code",
   "execution_count": 12,
   "metadata": {
    "ExecuteTime": {
     "end_time": "2019-11-13T14:44:27.170414Z",
     "start_time": "2019-11-13T14:44:27.159445Z"
    }
   },
   "outputs": [
    {
     "name": "stdout",
     "output_type": "stream",
     "text": [
      "p= 0.606888473033905\n",
      " The data is normally distributed.\n",
      "p= 0.830079197883606\n",
      " The data is normally distributed.\n",
      "p= 0.029410546645522118\n",
      " The data is not normally distributed.\n",
      "p= 0.43753236532211304\n",
      " The data is normally distributed.\n",
      "p= 0.07742969691753387\n",
      " The data is normally distributed.\n",
      "p= 0.8787531852722168\n",
      " The data is normally distributed.\n",
      "p= 0.20757952332496643\n",
      " The data is normally distributed.\n",
      "p= 0.09668848663568497\n",
      " The data is normally distributed.\n",
      "p= 0.8561683893203735\n",
      " The data is normally distributed.\n"
     ]
    },
    {
     "data": {
      "text/plain": [
       "True"
      ]
     },
     "execution_count": 12,
     "metadata": {},
     "output_type": "execute_result"
    }
   ],
   "source": [
    "hf.test_normality(samp_british_isles)\n",
    "hf.test_normality(samp_central_america)\n",
    "hf.test_normality(samp_eastern_europe)\n",
    "hf.test_normality(samp_north_america)\n",
    "hf.test_normality(samp_northern_europe)\n",
    "hf.test_normality(samp_scandinavia)\n",
    "hf.test_normality(samp_south_america)\n",
    "hf.test_normality(samp_southern_europe)\n",
    "hf.test_normality(samp_western_europe)"
   ]
  },
  {
   "cell_type": "markdown",
   "metadata": {},
   "source": [
    "We have confirmed that our data is now normally distributed, now we will test our Hypothesis"
   ]
  },
  {
   "cell_type": "code",
   "execution_count": 13,
   "metadata": {
    "ExecuteTime": {
     "end_time": "2019-11-13T14:44:28.464750Z",
     "start_time": "2019-11-13T14:44:28.454777Z"
    }
   },
   "outputs": [],
   "source": [
    "region_samples = pd.DataFrame()\n",
    "region_samples['samp_british_isles'] = samp_british_isles\n",
    "region_samples['samp_central_america'] = samp_central_america\n",
    "region_samples['samp_eastern_europe'] = samp_eastern_europe\n",
    "region_samples['samp_north_america'] = samp_north_america\n",
    "region_samples['samp_northern_europe'] = samp_northern_europe\n",
    "region_samples['samp_scandinavia'] = samp_scandinavia\n",
    "region_samples['samp_south_america'] = samp_south_america\n",
    "region_samples['samp_southern_europe'] = samp_southern_europe\n",
    "region_samples['samp_western_europe'] = samp_western_europe"
   ]
  },
  {
   "cell_type": "code",
   "execution_count": 14,
   "metadata": {
    "ExecuteTime": {
     "end_time": "2019-11-13T14:44:28.955467Z",
     "start_time": "2019-11-13T14:44:28.937486Z"
    }
   },
   "outputs": [
    {
     "data": {
      "text/html": [
       "<div>\n",
       "<style scoped>\n",
       "    .dataframe tbody tr th:only-of-type {\n",
       "        vertical-align: middle;\n",
       "    }\n",
       "\n",
       "    .dataframe tbody tr th {\n",
       "        vertical-align: top;\n",
       "    }\n",
       "\n",
       "    .dataframe thead th {\n",
       "        text-align: right;\n",
       "    }\n",
       "</style>\n",
       "<table border=\"1\" class=\"dataframe\">\n",
       "  <thead>\n",
       "    <tr style=\"text-align: right;\">\n",
       "      <th></th>\n",
       "      <th>samp_british_isles</th>\n",
       "      <th>samp_central_america</th>\n",
       "      <th>samp_eastern_europe</th>\n",
       "      <th>samp_north_america</th>\n",
       "      <th>samp_northern_europe</th>\n",
       "      <th>samp_scandinavia</th>\n",
       "      <th>samp_south_america</th>\n",
       "      <th>samp_southern_europe</th>\n",
       "      <th>samp_western_europe</th>\n",
       "    </tr>\n",
       "  </thead>\n",
       "  <tbody>\n",
       "    <tr>\n",
       "      <th>0</th>\n",
       "      <td>50.217714</td>\n",
       "      <td>127.657410</td>\n",
       "      <td>11.948149</td>\n",
       "      <td>-3.696911</td>\n",
       "      <td>45.902095</td>\n",
       "      <td>20.033270</td>\n",
       "      <td>5.940535</td>\n",
       "      <td>29.761362</td>\n",
       "      <td>20.560046</td>\n",
       "    </tr>\n",
       "    <tr>\n",
       "      <th>1</th>\n",
       "      <td>10.625702</td>\n",
       "      <td>1.970120</td>\n",
       "      <td>10.995228</td>\n",
       "      <td>18.146340</td>\n",
       "      <td>1.590990</td>\n",
       "      <td>56.995074</td>\n",
       "      <td>-16.985429</td>\n",
       "      <td>2.966174</td>\n",
       "      <td>23.447324</td>\n",
       "    </tr>\n",
       "    <tr>\n",
       "      <th>2</th>\n",
       "      <td>16.787555</td>\n",
       "      <td>55.045161</td>\n",
       "      <td>44.358515</td>\n",
       "      <td>24.175511</td>\n",
       "      <td>13.989384</td>\n",
       "      <td>41.446925</td>\n",
       "      <td>41.186717</td>\n",
       "      <td>38.969891</td>\n",
       "      <td>4.879792</td>\n",
       "    </tr>\n",
       "    <tr>\n",
       "      <th>3</th>\n",
       "      <td>26.079643</td>\n",
       "      <td>85.121961</td>\n",
       "      <td>8.757526</td>\n",
       "      <td>43.228372</td>\n",
       "      <td>10.846318</td>\n",
       "      <td>57.400562</td>\n",
       "      <td>24.073041</td>\n",
       "      <td>23.621986</td>\n",
       "      <td>48.903221</td>\n",
       "    </tr>\n",
       "    <tr>\n",
       "      <th>4</th>\n",
       "      <td>-4.993002</td>\n",
       "      <td>28.579559</td>\n",
       "      <td>61.575860</td>\n",
       "      <td>10.773853</td>\n",
       "      <td>110.721228</td>\n",
       "      <td>24.479860</td>\n",
       "      <td>9.826069</td>\n",
       "      <td>31.812188</td>\n",
       "      <td>16.644087</td>\n",
       "    </tr>\n",
       "  </tbody>\n",
       "</table>\n",
       "</div>"
      ],
      "text/plain": [
       "   samp_british_isles  samp_central_america  samp_eastern_europe  \\\n",
       "0           50.217714            127.657410            11.948149   \n",
       "1           10.625702              1.970120            10.995228   \n",
       "2           16.787555             55.045161            44.358515   \n",
       "3           26.079643             85.121961             8.757526   \n",
       "4           -4.993002             28.579559            61.575860   \n",
       "\n",
       "   samp_north_america  samp_northern_europe  samp_scandinavia  \\\n",
       "0           -3.696911             45.902095         20.033270   \n",
       "1           18.146340              1.590990         56.995074   \n",
       "2           24.175511             13.989384         41.446925   \n",
       "3           43.228372             10.846318         57.400562   \n",
       "4           10.773853            110.721228         24.479860   \n",
       "\n",
       "   samp_south_america  samp_southern_europe  samp_western_europe  \n",
       "0            5.940535             29.761362            20.560046  \n",
       "1          -16.985429              2.966174            23.447324  \n",
       "2           41.186717             38.969891             4.879792  \n",
       "3           24.073041             23.621986            48.903221  \n",
       "4            9.826069             31.812188            16.644087  "
      ]
     },
     "execution_count": 14,
     "metadata": {},
     "output_type": "execute_result"
    }
   ],
   "source": [
    "region_samples.head()"
   ]
  },
  {
   "cell_type": "markdown",
   "metadata": {},
   "source": [
    "Here we will perform an Anova test"
   ]
  },
  {
   "cell_type": "code",
   "execution_count": 15,
   "metadata": {
    "ExecuteTime": {
     "end_time": "2019-11-13T14:44:30.277937Z",
     "start_time": "2019-11-13T14:44:30.117347Z"
    }
   },
   "outputs": [
    {
     "data": {
      "text/html": [
       "<table class=\"simpletable\">\n",
       "<caption>OLS Regression Results</caption>\n",
       "<tr>\n",
       "  <th>Dep. Variable:</th>    <td>samp_north_america</td> <th>  R-squared:         </th> <td>   0.067</td>\n",
       "</tr>\n",
       "<tr>\n",
       "  <th>Model:</th>                    <td>OLS</td>        <th>  Adj. R-squared:    </th> <td>  -0.015</td>\n",
       "</tr>\n",
       "<tr>\n",
       "  <th>Method:</th>              <td>Least Squares</td>   <th>  F-statistic:       </th> <td>  0.8188</td>\n",
       "</tr>\n",
       "<tr>\n",
       "  <th>Date:</th>              <td>Wed, 13 Nov 2019</td>  <th>  Prob (F-statistic):</th>  <td> 0.588</td> \n",
       "</tr>\n",
       "<tr>\n",
       "  <th>Time:</th>                  <td>09:44:30</td>      <th>  Log-Likelihood:    </th> <td> -497.16</td>\n",
       "</tr>\n",
       "<tr>\n",
       "  <th>No. Observations:</th>       <td>   100</td>       <th>  AIC:               </th> <td>   1012.</td>\n",
       "</tr>\n",
       "<tr>\n",
       "  <th>Df Residuals:</th>           <td>    91</td>       <th>  BIC:               </th> <td>   1036.</td>\n",
       "</tr>\n",
       "<tr>\n",
       "  <th>Df Model:</th>               <td>     8</td>       <th>                     </th>     <td> </td>   \n",
       "</tr>\n",
       "<tr>\n",
       "  <th>Covariance Type:</th>       <td>nonrobust</td>     <th>                     </th>     <td> </td>   \n",
       "</tr>\n",
       "</table>\n",
       "<table class=\"simpletable\">\n",
       "<tr>\n",
       "            <td></td>              <th>coef</th>     <th>std err</th>      <th>t</th>      <th>P>|t|</th>  <th>[0.025</th>    <th>0.975]</th>  \n",
       "</tr>\n",
       "<tr>\n",
       "  <th>Intercept</th>            <td>   23.7837</td> <td>   10.690</td> <td>    2.225</td> <td> 0.029</td> <td>    2.550</td> <td>   45.017</td>\n",
       "</tr>\n",
       "<tr>\n",
       "  <th>samp_central_america</th> <td>    0.0163</td> <td>    0.108</td> <td>    0.151</td> <td> 0.880</td> <td>   -0.198</td> <td>    0.230</td>\n",
       "</tr>\n",
       "<tr>\n",
       "  <th>samp_eastern_europe</th>  <td>   -0.2636</td> <td>    0.264</td> <td>   -0.998</td> <td> 0.321</td> <td>   -0.788</td> <td>    0.261</td>\n",
       "</tr>\n",
       "<tr>\n",
       "  <th>samp_british_isles</th>   <td>   -0.2284</td> <td>    0.204</td> <td>   -1.120</td> <td> 0.266</td> <td>   -0.633</td> <td>    0.177</td>\n",
       "</tr>\n",
       "<tr>\n",
       "  <th>samp_northern_europe</th> <td>    0.0116</td> <td>    0.119</td> <td>    0.097</td> <td> 0.923</td> <td>   -0.225</td> <td>    0.248</td>\n",
       "</tr>\n",
       "<tr>\n",
       "  <th>samp_scandinavia</th>     <td>   -0.0176</td> <td>    0.124</td> <td>   -0.142</td> <td> 0.887</td> <td>   -0.264</td> <td>    0.229</td>\n",
       "</tr>\n",
       "<tr>\n",
       "  <th>samp_south_america</th>   <td>   -0.0683</td> <td>    0.146</td> <td>   -0.469</td> <td> 0.640</td> <td>   -0.357</td> <td>    0.221</td>\n",
       "</tr>\n",
       "<tr>\n",
       "  <th>samp_southern_europe</th> <td>    0.5369</td> <td>    0.248</td> <td>    2.164</td> <td> 0.033</td> <td>    0.044</td> <td>    1.030</td>\n",
       "</tr>\n",
       "<tr>\n",
       "  <th>samp_western_europe</th>  <td>    0.1857</td> <td>    0.150</td> <td>    1.242</td> <td> 0.217</td> <td>   -0.111</td> <td>    0.483</td>\n",
       "</tr>\n",
       "</table>\n",
       "<table class=\"simpletable\">\n",
       "<tr>\n",
       "  <th>Omnibus:</th>       <td> 5.018</td> <th>  Durbin-Watson:     </th> <td>   2.055</td>\n",
       "</tr>\n",
       "<tr>\n",
       "  <th>Prob(Omnibus):</th> <td> 0.081</td> <th>  Jarque-Bera (JB):  </th> <td>   2.544</td>\n",
       "</tr>\n",
       "<tr>\n",
       "  <th>Skew:</th>          <td>-0.089</td> <th>  Prob(JB):          </th> <td>   0.280</td>\n",
       "</tr>\n",
       "<tr>\n",
       "  <th>Kurtosis:</th>      <td> 2.239</td> <th>  Cond. No.          </th> <td>    229.</td>\n",
       "</tr>\n",
       "</table><br/><br/>Warnings:<br/>[1] Standard Errors assume that the covariance matrix of the errors is correctly specified."
      ],
      "text/plain": [
       "<class 'statsmodels.iolib.summary.Summary'>\n",
       "\"\"\"\n",
       "                            OLS Regression Results                            \n",
       "==============================================================================\n",
       "Dep. Variable:     samp_north_america   R-squared:                       0.067\n",
       "Model:                            OLS   Adj. R-squared:                 -0.015\n",
       "Method:                 Least Squares   F-statistic:                    0.8188\n",
       "Date:                Wed, 13 Nov 2019   Prob (F-statistic):              0.588\n",
       "Time:                        09:44:30   Log-Likelihood:                -497.16\n",
       "No. Observations:                 100   AIC:                             1012.\n",
       "Df Residuals:                      91   BIC:                             1036.\n",
       "Df Model:                           8                                         \n",
       "Covariance Type:            nonrobust                                         \n",
       "========================================================================================\n",
       "                           coef    std err          t      P>|t|      [0.025      0.975]\n",
       "----------------------------------------------------------------------------------------\n",
       "Intercept               23.7837     10.690      2.225      0.029       2.550      45.017\n",
       "samp_central_america     0.0163      0.108      0.151      0.880      -0.198       0.230\n",
       "samp_eastern_europe     -0.2636      0.264     -0.998      0.321      -0.788       0.261\n",
       "samp_british_isles      -0.2284      0.204     -1.120      0.266      -0.633       0.177\n",
       "samp_northern_europe     0.0116      0.119      0.097      0.923      -0.225       0.248\n",
       "samp_scandinavia        -0.0176      0.124     -0.142      0.887      -0.264       0.229\n",
       "samp_south_america      -0.0683      0.146     -0.469      0.640      -0.357       0.221\n",
       "samp_southern_europe     0.5369      0.248      2.164      0.033       0.044       1.030\n",
       "samp_western_europe      0.1857      0.150      1.242      0.217      -0.111       0.483\n",
       "==============================================================================\n",
       "Omnibus:                        5.018   Durbin-Watson:                   2.055\n",
       "Prob(Omnibus):                  0.081   Jarque-Bera (JB):                2.544\n",
       "Skew:                          -0.089   Prob(JB):                        0.280\n",
       "Kurtosis:                       2.239   Cond. No.                         229.\n",
       "==============================================================================\n",
       "\n",
       "Warnings:\n",
       "[1] Standard Errors assume that the covariance matrix of the errors is correctly specified.\n",
       "\"\"\""
      ]
     },
     "execution_count": 15,
     "metadata": {},
     "output_type": "execute_result"
    }
   ],
   "source": [
    "formula = 'samp_north_america ~ samp_central_america + samp_eastern_europe + samp_british_isles + samp_northern_europe + samp_scandinavia + samp_south_america + samp_southern_europe + samp_western_europe'\n",
    "lm = ols(formula, region_samples).fit()\n",
    "lm.summary()"
   ]
  },
  {
   "cell_type": "code",
   "execution_count": 16,
   "metadata": {
    "ExecuteTime": {
     "end_time": "2019-11-13T14:44:31.174531Z",
     "start_time": "2019-11-13T14:44:31.133652Z"
    }
   },
   "outputs": [
    {
     "name": "stdout",
     "output_type": "stream",
     "text": [
      "                             sum_sq    df         F    PR(>F)\n",
      "samp_central_america      30.677967   1.0  0.022911  0.880025\n",
      "samp_eastern_europe     1334.445297   1.0  0.996579  0.320787\n",
      "samp_british_isles      1679.459517   1.0  1.254240  0.265691\n",
      "samp_northern_europe      12.707377   1.0  0.009490  0.922610\n",
      "samp_scandinavia          27.035887   1.0  0.020191  0.887320\n",
      "samp_south_america       295.098197   1.0  0.220383  0.639871\n",
      "samp_southern_europe    6272.201650   1.0  4.684154  0.033060\n",
      "samp_western_europe     2066.347946   1.0  1.543173  0.217338\n",
      "Residual              121851.332931  91.0       NaN       NaN\n"
     ]
    }
   ],
   "source": [
    "table = sm.stats.anova_lm(lm, typ=2)\n",
    "print(table)"
   ]
  },
  {
   "cell_type": "markdown",
   "metadata": {},
   "source": [
    "From this test we see the probability factor of a few of these is above .05 so we can __reject the Null hypothesis H0.__"
   ]
  },
  {
   "cell_type": "code",
   "execution_count": null,
   "metadata": {},
   "outputs": [],
   "source": []
  }
 ],
 "metadata": {
  "kernelspec": {
   "display_name": "Python [conda env:learn-env] *",
   "language": "python",
   "name": "conda-env-learn-env-py"
  },
  "language_info": {
   "codemirror_mode": {
    "name": "ipython",
    "version": 3
   },
   "file_extension": ".py",
   "mimetype": "text/x-python",
   "name": "python",
   "nbconvert_exporter": "python",
   "pygments_lexer": "ipython3",
   "version": "3.6.6"
  },
  "toc": {
   "base_numbering": 1,
   "nav_menu": {},
   "number_sections": false,
   "sideBar": true,
   "skip_h1_title": false,
   "title_cell": "Table of Contents",
   "title_sidebar": "Contents",
   "toc_cell": false,
   "toc_position": {},
   "toc_section_display": true,
   "toc_window_display": false
  },
  "varInspector": {
   "cols": {
    "lenName": 16,
    "lenType": 16,
    "lenVar": 40
   },
   "kernels_config": {
    "python": {
     "delete_cmd_postfix": "",
     "delete_cmd_prefix": "del ",
     "library": "var_list.py",
     "varRefreshCmd": "print(var_dic_list())"
    },
    "r": {
     "delete_cmd_postfix": ") ",
     "delete_cmd_prefix": "rm(",
     "library": "var_list.r",
     "varRefreshCmd": "cat(var_dic_list()) "
    }
   },
   "types_to_exclude": [
    "module",
    "function",
    "builtin_function_or_method",
    "instance",
    "_Feature"
   ],
   "window_display": false
  }
 },
 "nbformat": 4,
 "nbformat_minor": 2
}
