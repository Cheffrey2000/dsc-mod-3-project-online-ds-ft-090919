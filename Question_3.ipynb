{
 "cells": [
  {
   "cell_type": "markdown",
   "metadata": {},
   "source": [
    "# Setting Up Our Workspace."
   ]
  },
  {
   "cell_type": "markdown",
   "metadata": {
    "ExecuteTime": {
     "end_time": "2019-11-04T05:37:27.781770Z",
     "start_time": "2019-11-04T05:37:27.776780Z"
    }
   },
   "source": [
    "#### Importing necessary libraries"
   ]
  },
  {
   "cell_type": "code",
   "execution_count": 2,
   "metadata": {
    "ExecuteTime": {
     "end_time": "2019-11-15T15:55:13.057989Z",
     "start_time": "2019-11-15T15:55:11.227856Z"
    }
   },
   "outputs": [
    {
     "data": {
      "text/plain": [
       "<module 'helper_functions' from 'C:\\\\Users\\\\Owner\\\\Desktop\\\\Data Science\\\\Flatiron_Projects\\\\mod-3-project\\\\helper_functions.py'>"
      ]
     },
     "execution_count": 2,
     "metadata": {},
     "output_type": "execute_result"
    }
   ],
   "source": [
    "from importlib import reload\n",
    "# custom functions \n",
    "import helper_functions as hf\n",
    "\n",
    "import sqlite3\n",
    "\n",
    "import numpy as np\n",
    "from numpy import std, mean, sqrt\n",
    "import pandas as pd\n",
    "import seaborn as sns\n",
    "\n",
    "import scipy.stats as scs\n",
    "import matplotlib.pyplot as plt\n",
    "from statsmodels.stats.power import tt_ind_solve_power\n",
    "import statsmodels.api as sm\n",
    "from statsmodels.formula.api import ols\n",
    "import datetime\n",
    "from datetime import timedelta\n",
    "import warnings\n",
    "from scipy.stats import mstats\n",
    "warnings.filterwarnings('ignore')\n",
    "reload(hf )"
   ]
  },
  {
   "cell_type": "markdown",
   "metadata": {},
   "source": [
    "#### Setting Up The Connection to the Database"
   ]
  },
  {
   "cell_type": "code",
   "execution_count": 3,
   "metadata": {
    "ExecuteTime": {
     "end_time": "2019-11-15T15:55:13.090841Z",
     "start_time": "2019-11-15T15:55:13.083862Z"
    }
   },
   "outputs": [],
   "source": [
    "# Setting up the connection to the database\n",
    "conn, cursor = hf.connection()"
   ]
  },
  {
   "cell_type": "code",
   "execution_count": 4,
   "metadata": {
    "ExecuteTime": {
     "end_time": "2019-11-15T15:55:13.131733Z",
     "start_time": "2019-11-15T15:55:13.119783Z"
    }
   },
   "outputs": [
    {
     "data": {
      "text/plain": [
       "[('Employee',),\n",
       " ('Category',),\n",
       " ('Customer',),\n",
       " ('Shipper',),\n",
       " ('Supplier',),\n",
       " ('Order',),\n",
       " ('Product',),\n",
       " ('OrderDetail',),\n",
       " ('CustomerCustomerDemo',),\n",
       " ('CustomerDemographic',),\n",
       " ('Region',),\n",
       " ('Territory',),\n",
       " ('EmployeeTerritory',)]"
      ]
     },
     "execution_count": 4,
     "metadata": {},
     "output_type": "execute_result"
    }
   ],
   "source": [
    "hf.get_tables(cursor)"
   ]
  },
  {
   "cell_type": "markdown",
   "metadata": {},
   "source": [
    "# Q3 - We will investigate the effect of employment length on order total\n",
    "\n",
    "H0 - Employment Length does __NOT__ have a statistically significant effect on sales.<br>\n",
    "HA - Employment Length __DOES__ have a statistically significant effect on sales per unit."
   ]
  },
  {
   "cell_type": "code",
   "execution_count": 5,
   "metadata": {
    "ExecuteTime": {
     "end_time": "2019-11-15T15:55:13.205546Z",
     "start_time": "2019-11-15T15:55:13.154672Z"
    }
   },
   "outputs": [
    {
     "data": {
      "text/html": [
       "<div>\n",
       "<style scoped>\n",
       "    .dataframe tbody tr th:only-of-type {\n",
       "        vertical-align: middle;\n",
       "    }\n",
       "\n",
       "    .dataframe tbody tr th {\n",
       "        vertical-align: top;\n",
       "    }\n",
       "\n",
       "    .dataframe thead th {\n",
       "        text-align: right;\n",
       "    }\n",
       "</style>\n",
       "<table border=\"1\" class=\"dataframe\">\n",
       "  <thead>\n",
       "    <tr style=\"text-align: right;\">\n",
       "      <th></th>\n",
       "      <th>HireDate</th>\n",
       "      <th>UnitPrice</th>\n",
       "      <th>Quantity</th>\n",
       "      <th>Discount</th>\n",
       "      <th>totalprice</th>\n",
       "    </tr>\n",
       "  </thead>\n",
       "  <tbody>\n",
       "    <tr>\n",
       "      <th>0</th>\n",
       "      <td>2025-10-17</td>\n",
       "      <td>14.0</td>\n",
       "      <td>12</td>\n",
       "      <td>0.0</td>\n",
       "      <td>168.0</td>\n",
       "    </tr>\n",
       "    <tr>\n",
       "      <th>1</th>\n",
       "      <td>2025-10-17</td>\n",
       "      <td>9.8</td>\n",
       "      <td>10</td>\n",
       "      <td>0.0</td>\n",
       "      <td>98.0</td>\n",
       "    </tr>\n",
       "    <tr>\n",
       "      <th>2</th>\n",
       "      <td>2025-10-17</td>\n",
       "      <td>34.8</td>\n",
       "      <td>5</td>\n",
       "      <td>0.0</td>\n",
       "      <td>174.0</td>\n",
       "    </tr>\n",
       "    <tr>\n",
       "      <th>3</th>\n",
       "      <td>2025-10-17</td>\n",
       "      <td>18.6</td>\n",
       "      <td>9</td>\n",
       "      <td>0.0</td>\n",
       "      <td>167.4</td>\n",
       "    </tr>\n",
       "    <tr>\n",
       "      <th>4</th>\n",
       "      <td>2025-10-17</td>\n",
       "      <td>42.4</td>\n",
       "      <td>40</td>\n",
       "      <td>0.0</td>\n",
       "      <td>1696.0</td>\n",
       "    </tr>\n",
       "  </tbody>\n",
       "</table>\n",
       "</div>"
      ],
      "text/plain": [
       "     HireDate  UnitPrice  Quantity  Discount  totalprice\n",
       "0  2025-10-17       14.0        12       0.0       168.0\n",
       "1  2025-10-17        9.8        10       0.0        98.0\n",
       "2  2025-10-17       34.8         5       0.0       174.0\n",
       "3  2025-10-17       18.6         9       0.0       167.4\n",
       "4  2025-10-17       42.4        40       0.0      1696.0"
      ]
     },
     "execution_count": 5,
     "metadata": {},
     "output_type": "execute_result"
    }
   ],
   "source": [
    "query = '''select e.hiredate, od.unitprice, od.quantity, od.discount,\n",
    "           ((od.unitprice* (1-od.discount)) * od.quantity) as totalprice\n",
    "           from employee e \n",
    "           JOIN [Order] o on e.id=o.employeeid\n",
    "           JOIN [OrderDetail] od on od.OrderId=o.Id\n",
    "'''\n",
    "\n",
    "df = hf.query_to_df(query, conn)\n",
    "df.head()"
   ]
  },
  {
   "cell_type": "code",
   "execution_count": 6,
   "metadata": {
    "ExecuteTime": {
     "end_time": "2019-11-15T15:55:13.271360Z",
     "start_time": "2019-11-15T15:55:13.263382Z"
    }
   },
   "outputs": [
    {
     "data": {
      "text/plain": [
       "array(['2025-10-17', '2025-05-03', '2024-04-01', '2026-11-15',\n",
       "       '2024-05-01', '2026-03-05', '2024-08-14', '2026-01-02'],\n",
       "      dtype=object)"
      ]
     },
     "execution_count": 6,
     "metadata": {},
     "output_type": "execute_result"
    }
   ],
   "source": [
    "df['HireDate'].unique()"
   ]
  },
  {
   "cell_type": "markdown",
   "metadata": {},
   "source": [
    "First we will need to convert the date to a usable number."
   ]
  },
  {
   "cell_type": "code",
   "execution_count": 7,
   "metadata": {
    "ExecuteTime": {
     "end_time": "2019-11-15T15:55:13.346159Z",
     "start_time": "2019-11-15T15:55:13.339182Z"
    }
   },
   "outputs": [],
   "source": [
    "pd.to_datetime(df.HireDate, infer_datetime_format=True);"
   ]
  },
  {
   "cell_type": "code",
   "execution_count": 8,
   "metadata": {
    "ExecuteTime": {
     "end_time": "2019-11-15T15:55:13.429936Z",
     "start_time": "2019-11-15T15:55:13.412006Z"
    }
   },
   "outputs": [
    {
     "name": "stdout",
     "output_type": "stream",
     "text": [
      "<class 'pandas.core.frame.DataFrame'>\n",
      "RangeIndex: 2155 entries, 0 to 2154\n",
      "Data columns (total 5 columns):\n",
      "HireDate      2155 non-null object\n",
      "UnitPrice     2155 non-null float64\n",
      "Quantity      2155 non-null int64\n",
      "Discount      2155 non-null float64\n",
      "totalprice    2155 non-null float64\n",
      "dtypes: float64(3), int64(1), object(1)\n",
      "memory usage: 84.3+ KB\n"
     ]
    }
   ],
   "source": [
    "df.info()"
   ]
  },
  {
   "cell_type": "code",
   "execution_count": 9,
   "metadata": {
    "ExecuteTime": {
     "end_time": "2019-11-15T15:55:13.970006Z",
     "start_time": "2019-11-15T15:55:13.530666Z"
    }
   },
   "outputs": [
    {
     "data": {
      "text/html": [
       "<div>\n",
       "<style scoped>\n",
       "    .dataframe tbody tr th:only-of-type {\n",
       "        vertical-align: middle;\n",
       "    }\n",
       "\n",
       "    .dataframe tbody tr th {\n",
       "        vertical-align: top;\n",
       "    }\n",
       "\n",
       "    .dataframe thead th {\n",
       "        text-align: right;\n",
       "    }\n",
       "</style>\n",
       "<table border=\"1\" class=\"dataframe\">\n",
       "  <thead>\n",
       "    <tr style=\"text-align: right;\">\n",
       "      <th></th>\n",
       "      <th>HireDate</th>\n",
       "      <th>UnitPrice</th>\n",
       "      <th>Quantity</th>\n",
       "      <th>Discount</th>\n",
       "      <th>totalprice</th>\n",
       "      <th>len_employment</th>\n",
       "    </tr>\n",
       "  </thead>\n",
       "  <tbody>\n",
       "    <tr>\n",
       "      <th>0</th>\n",
       "      <td>2025-10-17</td>\n",
       "      <td>14.0</td>\n",
       "      <td>12</td>\n",
       "      <td>0.0</td>\n",
       "      <td>168.0</td>\n",
       "      <td>394</td>\n",
       "    </tr>\n",
       "    <tr>\n",
       "      <th>1</th>\n",
       "      <td>2025-10-17</td>\n",
       "      <td>9.8</td>\n",
       "      <td>10</td>\n",
       "      <td>0.0</td>\n",
       "      <td>98.0</td>\n",
       "      <td>394</td>\n",
       "    </tr>\n",
       "    <tr>\n",
       "      <th>2</th>\n",
       "      <td>2025-10-17</td>\n",
       "      <td>34.8</td>\n",
       "      <td>5</td>\n",
       "      <td>0.0</td>\n",
       "      <td>174.0</td>\n",
       "      <td>394</td>\n",
       "    </tr>\n",
       "    <tr>\n",
       "      <th>3</th>\n",
       "      <td>2025-10-17</td>\n",
       "      <td>18.6</td>\n",
       "      <td>9</td>\n",
       "      <td>0.0</td>\n",
       "      <td>167.4</td>\n",
       "      <td>394</td>\n",
       "    </tr>\n",
       "    <tr>\n",
       "      <th>4</th>\n",
       "      <td>2025-10-17</td>\n",
       "      <td>42.4</td>\n",
       "      <td>40</td>\n",
       "      <td>0.0</td>\n",
       "      <td>1696.0</td>\n",
       "      <td>394</td>\n",
       "    </tr>\n",
       "  </tbody>\n",
       "</table>\n",
       "</div>"
      ],
      "text/plain": [
       "     HireDate  UnitPrice  Quantity  Discount  totalprice  len_employment\n",
       "0  2025-10-17       14.0        12       0.0       168.0             394\n",
       "1  2025-10-17        9.8        10       0.0        98.0             394\n",
       "2  2025-10-17       34.8         5       0.0       174.0             394\n",
       "3  2025-10-17       18.6         9       0.0       167.4             394\n",
       "4  2025-10-17       42.4        40       0.0      1696.0             394"
      ]
     },
     "execution_count": 9,
     "metadata": {},
     "output_type": "execute_result"
    }
   ],
   "source": [
    "def date_diff(t1, t2):\n",
    "    diff = datetime.datetime.strptime(t1, '%Y-%m-%d') - datetime.datetime.strptime(t2, '%Y-%m-%d')\n",
    "    return diff.days\n",
    "start_date = df.HireDate.max()        \n",
    "df['len_employment'] = [date_diff(start_date, row.HireDate) for index, row in df.iterrows()]\n",
    "df.head()"
   ]
  },
  {
   "cell_type": "code",
   "execution_count": 10,
   "metadata": {
    "ExecuteTime": {
     "end_time": "2019-11-15T15:55:15.047162Z",
     "start_time": "2019-11-15T15:55:14.033836Z"
    }
   },
   "outputs": [
    {
     "data": {
      "image/png": "[encoded data removed]",
      "text/plain": [
       "<Figure size 360x576 with 8 Axes>"
      ]
     },
     "metadata": {
      "needs_background": "light"
     },
     "output_type": "display_data"
    }
   ],
   "source": [
    " df.hist('totalprice', by='len_employment', figsize=(5,8), layout=(4,2), xrot=45);"
   ]
  },
  {
   "cell_type": "code",
   "execution_count": 23,
   "metadata": {
    "ExecuteTime": {
     "end_time": "2019-11-15T15:58:37.573388Z",
     "start_time": "2019-11-15T15:58:37.365941Z"
    }
   },
   "outputs": [
    {
     "data": {
      "text/plain": [
       "array([[<matplotlib.axes._subplots.AxesSubplot object at 0x0000024E9064F320>]],\n",
       "      dtype=object)"
      ]
     },
     "execution_count": 23,
     "metadata": {},
     "output_type": "execute_result"
    },
    {
     "data": {
      "image/png": "[encoded data removed]",
      "text/plain": [
       "<Figure size 432x288 with 1 Axes>"
      ]
     },
     "metadata": {
      "needs_background": "light"
     },
     "output_type": "display_data"
    }
   ],
   "source": [
    "df.hist('len_employment')"
   ]
  },
  {
   "cell_type": "code",
   "execution_count": 12,
   "metadata": {
    "ExecuteTime": {
     "end_time": "2019-11-15T15:55:16.094904Z",
     "start_time": "2019-11-15T15:55:16.084929Z"
    }
   },
   "outputs": [
    {
     "data": {
      "text/plain": [
       "[394, 561, 958, 0, 928, 255, 823, 317]"
      ]
     },
     "execution_count": 12,
     "metadata": {},
     "output_type": "execute_result"
    }
   ],
   "source": [
    "tenure = list(df.len_employment.unique())\n",
    "tenure"
   ]
  },
  {
   "cell_type": "code",
   "execution_count": 13,
   "metadata": {
    "ExecuteTime": {
     "end_time": "2019-11-15T15:55:16.243508Z",
     "start_time": "2019-11-15T15:55:16.164716Z"
    }
   },
   "outputs": [
    {
     "name": "stdout",
     "output_type": "stream",
     "text": [
      "len_0\n",
      "p= 7.304625194302649e-18\n",
      " The data is not normally distributed.\n",
      "False\n",
      "len_255\n",
      "p= 4.103233068163989e-17\n",
      " The data is not normally distributed.\n",
      "False\n",
      "len_317\n",
      "p= 6.9448335356879765e-22\n",
      " The data is not normally distributed.\n",
      "False\n",
      "len_394\n",
      "p= 1.3690730313917236e-25\n",
      " The data is not normally distributed.\n",
      "False\n",
      "len_561\n",
      "p= 1.476363011536015e-32\n",
      " The data is not normally distributed.\n",
      "False\n",
      "len_823\n",
      "p= 4.964441884255779e-27\n",
      " The data is not normally distributed.\n",
      "False\n",
      "len_928\n",
      "p= 2.0911807932890392e-32\n",
      " The data is not normally distributed.\n",
      "False\n",
      "len_958\n",
      "p= 3.4248062893919227e-29\n",
      " The data is not normally distributed.\n",
      "False\n"
     ]
    }
   ],
   "source": [
    "len_0 = df.loc[df['len_employment'] == 0]\n",
    "len_255 = df.loc[df['len_employment'] == 255]\n",
    "len_317 = df.loc[df['len_employment'] == 317]\n",
    "len_394 = df.loc[df['len_employment'] == 394]\n",
    "len_561 = df.loc[df['len_employment'] == 561]\n",
    "len_823 = df.loc[df['len_employment'] == 823]\n",
    "len_928 = df.loc[df['len_employment'] == 928]\n",
    "len_958 = df.loc[df['len_employment'] == 958]\n",
    "\n",
    "len_0 = len_0['totalprice']\n",
    "len_255 = len_255['totalprice']\n",
    "len_317 = len_317['totalprice']\n",
    "len_394 = len_394['totalprice']\n",
    "len_561 = len_561['totalprice']\n",
    "len_823 = len_823['totalprice']\n",
    "len_928 = len_928['totalprice']\n",
    "len_958 = len_958['totalprice']\n",
    "\n",
    "print('len_0')\n",
    "print(hf.test_normality(len_0))\n",
    "print('len_255')\n",
    "print(hf.test_normality(len_255))\n",
    "print('len_317')\n",
    "print(hf.test_normality(len_317))\n",
    "print('len_394')\n",
    "print(hf.test_normality(len_394))\n",
    "print('len_561')\n",
    "print(hf.test_normality(len_561))\n",
    "print('len_823')\n",
    "print(hf.test_normality(len_823))\n",
    "print('len_928')\n",
    "print(hf.test_normality(len_928))\n",
    "print('len_958')\n",
    "print(hf.test_normality(len_958))"
   ]
  },
  {
   "cell_type": "code",
   "execution_count": 14,
   "metadata": {
    "ExecuteTime": {
     "end_time": "2019-11-15T15:55:50.952959Z",
     "start_time": "2019-11-15T15:55:50.931021Z"
    }
   },
   "outputs": [],
   "source": [
    "len_0mean = np.mean(len_0)\n",
    "len_0std = np.std(len_0, ddof=1)\n",
    "\n",
    "samp_len_0 = np.random.normal(loc=len_0mean, scale=len_0std, size=50)\n",
    "len_255mean = np.mean(len_255)\n",
    "len_255std = np.std(len_255, ddof=1)\n",
    "\n",
    "samp_len_255 = np.random.normal(loc=len_255mean, scale=len_255std, size=50)\n",
    "len_317mean = np.mean(len_317)\n",
    "len_317std = np.std(len_317, ddof=1)\n",
    "\n",
    "samp_len_317 = np.random.normal(loc=len_317mean, scale=len_317std, size=50)\n",
    "len_394mean = np.mean(len_394)\n",
    "len_394std = np.std(len_394, ddof=1)\n",
    "\n",
    "samp_len_394 = np.random.normal(loc=len_394mean, scale=len_394std, size=50)\n",
    "len_561mean = np.mean(len_561)\n",
    "len_561std = np.std(len_561, ddof=1)\n",
    "\n",
    "samp_len_561 = np.random.normal(loc=len_561mean, scale=len_561std, size=50)\n",
    "len_823mean = np.mean(len_823)\n",
    "len_823std = np.std(len_823, ddof=1)\n",
    "\n",
    "samp_len_823 = np.random.normal(loc=len_823mean, scale=len_823std, size=50)\n",
    "len_928mean = np.mean(len_928)\n",
    "len_928std = np.std(len_928, ddof=1)\n",
    "\n",
    "samp_len_928 = np.random.normal(loc=len_928mean, scale=len_928std, size=50)\n",
    "len_958mean = np.mean(len_958)\n",
    "len_958std = np.std(len_958, ddof=1)\n",
    "\n",
    "samp_len_958 = np.random.normal(loc=len_958mean, scale=len_958std, size=50)"
   ]
  },
  {
   "cell_type": "code",
   "execution_count": 15,
   "metadata": {
    "ExecuteTime": {
     "end_time": "2019-11-15T15:55:51.627717Z",
     "start_time": "2019-11-15T15:55:51.249727Z"
    }
   },
   "outputs": [
    {
     "data": {
      "text/plain": [
       "<matplotlib.axes._subplots.AxesSubplot at 0x24e8f8b0ef0>"
      ]
     },
     "execution_count": 15,
     "metadata": {},
     "output_type": "execute_result"
    },
    {
     "data": {
      "image/png": "[encoded data removed]",
      "text/plain": [
       "<Figure size 432x288 with 1 Axes>"
      ]
     },
     "metadata": {
      "needs_background": "light"
     },
     "output_type": "display_data"
    }
   ],
   "source": [
    "sns.distplot(samp_len_0)\n",
    "sns.distplot(samp_len_255)\n",
    "sns.distplot(samp_len_317)\n",
    "sns.distplot(samp_len_394)\n",
    "sns.distplot(samp_len_561)\n",
    "sns.distplot(samp_len_823)\n",
    "sns.distplot(samp_len_928)\n",
    "sns.distplot(samp_len_958)"
   ]
  },
  {
   "cell_type": "code",
   "execution_count": 16,
   "metadata": {
    "ExecuteTime": {
     "end_time": "2019-11-15T15:55:51.852118Z",
     "start_time": "2019-11-15T15:55:51.839163Z"
    }
   },
   "outputs": [
    {
     "name": "stdout",
     "output_type": "stream",
     "text": [
      "p= 0.7015696167945862\n",
      " The data is normally distributed.\n",
      "p= 0.5828062295913696\n",
      " The data is normally distributed.\n",
      "p= 0.7990869283676147\n",
      " The data is normally distributed.\n",
      "p= 0.3618880808353424\n",
      " The data is normally distributed.\n",
      "p= 0.5874108672142029\n",
      " The data is normally distributed.\n",
      "p= 0.4362936019897461\n",
      " The data is normally distributed.\n",
      "p= 0.37614789605140686\n",
      " The data is normally distributed.\n",
      "p= 0.24208180606365204\n",
      " The data is normally distributed.\n"
     ]
    },
    {
     "data": {
      "text/plain": [
       "True"
      ]
     },
     "execution_count": 16,
     "metadata": {},
     "output_type": "execute_result"
    }
   ],
   "source": [
    "hf.test_normality(samp_len_0)\n",
    "hf.test_normality(samp_len_255)\n",
    "hf.test_normality(samp_len_317)\n",
    "hf.test_normality(samp_len_394)\n",
    "hf.test_normality(samp_len_561)\n",
    "hf.test_normality(samp_len_823)\n",
    "hf.test_normality(samp_len_928)\n",
    "hf.test_normality(samp_len_958)"
   ]
  },
  {
   "cell_type": "code",
   "execution_count": 17,
   "metadata": {
    "ExecuteTime": {
     "end_time": "2019-11-15T15:55:58.472402Z",
     "start_time": "2019-11-15T15:55:58.456434Z"
    }
   },
   "outputs": [
    {
     "name": "stdout",
     "output_type": "stream",
     "text": [
      "p= 1.8695281920739244e-06\n",
      " Variances are not equal.\n"
     ]
    },
    {
     "data": {
      "text/plain": [
       "False"
      ]
     },
     "execution_count": 17,
     "metadata": {},
     "output_type": "execute_result"
    }
   ],
   "source": [
    "hf.test_equal_variance(samp_len_0, samp_len_255)"
   ]
  },
  {
   "cell_type": "code",
   "execution_count": 21,
   "metadata": {
    "ExecuteTime": {
     "end_time": "2019-11-15T15:57:05.875864Z",
     "start_time": "2019-11-15T15:57:05.866886Z"
    }
   },
   "outputs": [],
   "source": [
    "test_df = pd.DataFrame()\n",
    "test_df['samp_len_0'] = samp_len_0\n",
    "test_df['samp_len_255'] = samp_len_255\n",
    "test_df['samp_len_317'] = samp_len_317\n",
    "test_df['samp_len_394'] = samp_len_394\n",
    "test_df['samp_len_561'] = samp_len_561\n",
    "test_df['samp_len_823'] = samp_len_823\n",
    "test_df['samp_len_928'] = samp_len_928\n",
    "test_df['samp_len_958'] = samp_len_958"
   ]
  },
  {
   "cell_type": "code",
   "execution_count": 24,
   "metadata": {
    "ExecuteTime": {
     "end_time": "2019-11-15T15:59:32.620142Z",
     "start_time": "2019-11-15T15:59:31.559979Z"
    }
   },
   "outputs": [
    {
     "data": {
      "text/plain": [
       "array([[<matplotlib.axes._subplots.AxesSubplot object at 0x0000024E906F2F60>,\n",
       "        <matplotlib.axes._subplots.AxesSubplot object at 0x0000024E9076D2E8>,\n",
       "        <matplotlib.axes._subplots.AxesSubplot object at 0x0000024E90791860>],\n",
       "       [<matplotlib.axes._subplots.AxesSubplot object at 0x0000024E907B8DD8>,\n",
       "        <matplotlib.axes._subplots.AxesSubplot object at 0x0000024E907E8390>,\n",
       "        <matplotlib.axes._subplots.AxesSubplot object at 0x0000024E9080F908>],\n",
       "       [<matplotlib.axes._subplots.AxesSubplot object at 0x0000024E90837E80>,\n",
       "        <matplotlib.axes._subplots.AxesSubplot object at 0x0000024E90869470>,\n",
       "        <matplotlib.axes._subplots.AxesSubplot object at 0x0000024E908694A8>]],\n",
       "      dtype=object)"
      ]
     },
     "execution_count": 24,
     "metadata": {},
     "output_type": "execute_result"
    },
    {
     "data": {
      "image/png": "[encoded data removed]",
      "text/plain": [
       "<Figure size 576x576 with 9 Axes>"
      ]
     },
     "metadata": {
      "needs_background": "light"
     },
     "output_type": "display_data"
    }
   ],
   "source": [
    "test_df.hist(figsize=(8,8))"
   ]
  },
  {
   "cell_type": "code",
   "execution_count": 19,
   "metadata": {
    "ExecuteTime": {
     "end_time": "2019-11-15T15:56:00.552830Z",
     "start_time": "2019-11-15T15:56:00.477035Z"
    }
   },
   "outputs": [
    {
     "data": {
      "text/html": [
       "<table class=\"simpletable\">\n",
       "<caption>OLS Regression Results</caption>\n",
       "<tr>\n",
       "  <th>Dep. Variable:</th>      <td>samp_len_958</td>   <th>  R-squared:         </th> <td>   0.267</td>\n",
       "</tr>\n",
       "<tr>\n",
       "  <th>Model:</th>                   <td>OLS</td>       <th>  Adj. R-squared:    </th> <td>   0.145</td>\n",
       "</tr>\n",
       "<tr>\n",
       "  <th>Method:</th>             <td>Least Squares</td>  <th>  F-statistic:       </th> <td>   2.184</td>\n",
       "</tr>\n",
       "<tr>\n",
       "  <th>Date:</th>             <td>Fri, 15 Nov 2019</td> <th>  Prob (F-statistic):</th>  <td>0.0552</td> \n",
       "</tr>\n",
       "<tr>\n",
       "  <th>Time:</th>                 <td>10:56:00</td>     <th>  Log-Likelihood:    </th> <td> -396.78</td>\n",
       "</tr>\n",
       "<tr>\n",
       "  <th>No. Observations:</th>      <td>    50</td>      <th>  AIC:               </th> <td>   809.6</td>\n",
       "</tr>\n",
       "<tr>\n",
       "  <th>Df Residuals:</th>          <td>    42</td>      <th>  BIC:               </th> <td>   824.9</td>\n",
       "</tr>\n",
       "<tr>\n",
       "  <th>Df Model:</th>              <td>     7</td>      <th>                     </th>     <td> </td>   \n",
       "</tr>\n",
       "<tr>\n",
       "  <th>Covariance Type:</th>      <td>nonrobust</td>    <th>                     </th>     <td> </td>   \n",
       "</tr>\n",
       "</table>\n",
       "<table class=\"simpletable\">\n",
       "<tr>\n",
       "        <td></td>          <th>coef</th>     <th>std err</th>      <th>t</th>      <th>P>|t|</th>  <th>[0.025</th>    <th>0.975]</th>  \n",
       "</tr>\n",
       "<tr>\n",
       "  <th>Intercept</th>    <td>  883.2257</td> <td>  221.832</td> <td>    3.982</td> <td> 0.000</td> <td>  435.550</td> <td> 1330.901</td>\n",
       "</tr>\n",
       "<tr>\n",
       "  <th>samp_len_255</th> <td>   -0.2521</td> <td>    0.240</td> <td>   -1.052</td> <td> 0.299</td> <td>   -0.736</td> <td>    0.231</td>\n",
       "</tr>\n",
       "<tr>\n",
       "  <th>samp_len_317</th> <td>    0.2007</td> <td>    0.105</td> <td>    1.913</td> <td> 0.063</td> <td>   -0.011</td> <td>    0.412</td>\n",
       "</tr>\n",
       "<tr>\n",
       "  <th>samp_len_394</th> <td>   -0.3022</td> <td>    0.178</td> <td>   -1.696</td> <td> 0.097</td> <td>   -0.662</td> <td>    0.057</td>\n",
       "</tr>\n",
       "<tr>\n",
       "  <th>samp_len_561</th> <td>   -0.2476</td> <td>    0.136</td> <td>   -1.821</td> <td> 0.076</td> <td>   -0.522</td> <td>    0.027</td>\n",
       "</tr>\n",
       "<tr>\n",
       "  <th>samp_len_823</th> <td>    0.1158</td> <td>    0.080</td> <td>    1.456</td> <td> 0.153</td> <td>   -0.045</td> <td>    0.276</td>\n",
       "</tr>\n",
       "<tr>\n",
       "  <th>samp_len_928</th> <td>   -0.2323</td> <td>    0.132</td> <td>   -1.755</td> <td> 0.087</td> <td>   -0.499</td> <td>    0.035</td>\n",
       "</tr>\n",
       "<tr>\n",
       "  <th>samp_len_0</th>   <td>    0.0861</td> <td>    0.089</td> <td>    0.965</td> <td> 0.340</td> <td>   -0.094</td> <td>    0.266</td>\n",
       "</tr>\n",
       "</table>\n",
       "<table class=\"simpletable\">\n",
       "<tr>\n",
       "  <th>Omnibus:</th>       <td> 2.313</td> <th>  Durbin-Watson:     </th> <td>   2.043</td>\n",
       "</tr>\n",
       "<tr>\n",
       "  <th>Prob(Omnibus):</th> <td> 0.315</td> <th>  Jarque-Bera (JB):  </th> <td>   1.399</td>\n",
       "</tr>\n",
       "<tr>\n",
       "  <th>Skew:</th>          <td>-0.083</td> <th>  Prob(JB):          </th> <td>   0.497</td>\n",
       "</tr>\n",
       "<tr>\n",
       "  <th>Kurtosis:</th>      <td> 2.197</td> <th>  Cond. No.          </th> <td>4.53e+03</td>\n",
       "</tr>\n",
       "</table><br/><br/>Warnings:<br/>[1] Standard Errors assume that the covariance matrix of the errors is correctly specified.<br/>[2] The condition number is large, 4.53e+03. This might indicate that there are<br/>strong multicollinearity or other numerical problems."
      ],
      "text/plain": [
       "<class 'statsmodels.iolib.summary.Summary'>\n",
       "\"\"\"\n",
       "                            OLS Regression Results                            \n",
       "==============================================================================\n",
       "Dep. Variable:           samp_len_958   R-squared:                       0.267\n",
       "Model:                            OLS   Adj. R-squared:                  0.145\n",
       "Method:                 Least Squares   F-statistic:                     2.184\n",
       "Date:                Fri, 15 Nov 2019   Prob (F-statistic):             0.0552\n",
       "Time:                        10:56:00   Log-Likelihood:                -396.78\n",
       "No. Observations:                  50   AIC:                             809.6\n",
       "Df Residuals:                      42   BIC:                             824.9\n",
       "Df Model:                           7                                         \n",
       "Covariance Type:            nonrobust                                         \n",
       "================================================================================\n",
       "                   coef    std err          t      P>|t|      [0.025      0.975]\n",
       "--------------------------------------------------------------------------------\n",
       "Intercept      883.2257    221.832      3.982      0.000     435.550    1330.901\n",
       "samp_len_255    -0.2521      0.240     -1.052      0.299      -0.736       0.231\n",
       "samp_len_317     0.2007      0.105      1.913      0.063      -0.011       0.412\n",
       "samp_len_394    -0.3022      0.178     -1.696      0.097      -0.662       0.057\n",
       "samp_len_561    -0.2476      0.136     -1.821      0.076      -0.522       0.027\n",
       "samp_len_823     0.1158      0.080      1.456      0.153      -0.045       0.276\n",
       "samp_len_928    -0.2323      0.132     -1.755      0.087      -0.499       0.035\n",
       "samp_len_0       0.0861      0.089      0.965      0.340      -0.094       0.266\n",
       "==============================================================================\n",
       "Omnibus:                        2.313   Durbin-Watson:                   2.043\n",
       "Prob(Omnibus):                  0.315   Jarque-Bera (JB):                1.399\n",
       "Skew:                          -0.083   Prob(JB):                        0.497\n",
       "Kurtosis:                       2.197   Cond. No.                     4.53e+03\n",
       "==============================================================================\n",
       "\n",
       "Warnings:\n",
       "[1] Standard Errors assume that the covariance matrix of the errors is correctly specified.\n",
       "[2] The condition number is large, 4.53e+03. This might indicate that there are\n",
       "strong multicollinearity or other numerical problems.\n",
       "\"\"\""
      ]
     },
     "execution_count": 19,
     "metadata": {},
     "output_type": "execute_result"
    }
   ],
   "source": [
    "formula = 'samp_len_958 ~ samp_len_255 + samp_len_317 + samp_len_394 + samp_len_561 + samp_len_823 + samp_len_928 + samp_len_0'\n",
    "lm = ols(formula, test_df).fit()\n",
    "lm.summary()"
   ]
  },
  {
   "cell_type": "code",
   "execution_count": 20,
   "metadata": {
    "ExecuteTime": {
     "end_time": "2019-11-15T15:56:02.318624Z",
     "start_time": "2019-11-15T15:56:02.311641Z"
    }
   },
   "outputs": [
    {
     "name": "stdout",
     "output_type": "stream",
     "text": [
      "H-stat 10.207912219451373\n",
      "pvalue 0.17709425762396017\n"
     ]
    }
   ],
   "source": [
    "H, pval = mstats.kruskalwallis(samp_len_0, samp_len_255, samp_len_317, samp_len_394, samp_len_561, samp_len_823, samp_len_928, samp_len_958)\n",
    "print('H-stat', H)\n",
    "print('pvalue', pval)"
   ]
  },
  {
   "cell_type": "markdown",
   "metadata": {},
   "source": [
    "From the Kruskal_Wallace above, the p-value greater than .05 indicates that the data is of the same distribution\n",
    "with this result, we __fail to reject our Null H0__"
   ]
  }
 ],
 "metadata": {
  "kernelspec": {
   "display_name": "Python [conda env:learn-env] *",
   "language": "python",
   "name": "conda-env-learn-env-py"
  },
  "language_info": {
   "codemirror_mode": {
    "name": "ipython",
    "version": 3
   },
   "file_extension": ".py",
   "mimetype": "text/x-python",
   "name": "python",
   "nbconvert_exporter": "python",
   "pygments_lexer": "ipython3",
   "version": "3.6.6"
  },
  "toc": {
   "base_numbering": 1,
   "nav_menu": {},
   "number_sections": false,
   "sideBar": true,
   "skip_h1_title": false,
   "title_cell": "Table of Contents",
   "title_sidebar": "Contents",
   "toc_cell": false,
   "toc_position": {},
   "toc_section_display": true,
   "toc_window_display": false
  },
  "varInspector": {
   "cols": {
    "lenName": 16,
    "lenType": 16,
    "lenVar": 40
   },
   "kernels_config": {
    "python": {
     "delete_cmd_postfix": "",
     "delete_cmd_prefix": "del ",
     "library": "var_list.py",
     "varRefreshCmd": "print(var_dic_list())"
    },
    "r": {
     "delete_cmd_postfix": ") ",
     "delete_cmd_prefix": "rm(",
     "library": "var_list.r",
     "varRefreshCmd": "cat(var_dic_list()) "
    }
   },
   "types_to_exclude": [
    "module",
    "function",
    "builtin_function_or_method",
    "instance",
    "_Feature"
   ],
   "window_display": false
  }
 },
 "nbformat": 4,
 "nbformat_minor": 2
}
