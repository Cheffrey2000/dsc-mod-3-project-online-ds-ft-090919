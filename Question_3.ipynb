{
 "cells": [
  {
   "cell_type": "markdown",
   "metadata": {},
   "source": [
    "# Setting Up Our Workspace."
   ]
  },
  {
   "cell_type": "markdown",
   "metadata": {
    "ExecuteTime": {
     "end_time": "2019-11-04T05:37:27.781770Z",
     "start_time": "2019-11-04T05:37:27.776780Z"
    }
   },
   "source": [
    "#### Importing necessary libraries"
   ]
  },
  {
   "cell_type": "code",
   "execution_count": 13,
   "metadata": {
    "ExecuteTime": {
     "end_time": "2019-11-13T14:44:51.918617Z",
     "start_time": "2019-11-13T14:44:51.908646Z"
    }
   },
   "outputs": [
    {
     "data": {
      "text/plain": [
       "<module 'helper_functions' from 'C:\\\\Users\\\\Owner\\\\Desktop\\\\Data Science\\\\Flatiron_Projects\\\\dsc-mod-3-project-online-ds-ft-090919\\\\helper_functions.py'>"
      ]
     },
     "execution_count": 13,
     "metadata": {},
     "output_type": "execute_result"
    }
   ],
   "source": [
    "from importlib import reload\n",
    "# custom functions \n",
    "import helper_functions as hf\n",
    "\n",
    "import sqlite3\n",
    "\n",
    "import numpy as np\n",
    "from numpy import std, mean, sqrt\n",
    "import pandas as pd\n",
    "import seaborn as sns\n",
    "\n",
    "import scipy.stats as scs\n",
    "import matplotlib.pyplot as plt\n",
    "from statsmodels.stats.power import tt_ind_solve_power\n",
    "import statsmodels.api as sm\n",
    "from statsmodels.formula.api import ols\n",
    "import datetime\n",
    "from datetime import timedelta\n",
    "import warnings\n",
    "from scipy.stats import mstats\n",
    "warnings.filterwarnings('ignore')\n",
    "reload(hf )"
   ]
  },
  {
   "cell_type": "markdown",
   "metadata": {},
   "source": [
    "#### Setting Up The Connection to the Database"
   ]
  },
  {
   "cell_type": "code",
   "execution_count": 14,
   "metadata": {
    "ExecuteTime": {
     "end_time": "2019-11-13T14:44:52.823217Z",
     "start_time": "2019-11-13T14:44:52.818230Z"
    }
   },
   "outputs": [],
   "source": [
    "# Setting up the connection to the database\n",
    "conn, cursor = hf.connection()"
   ]
  },
  {
   "cell_type": "code",
   "execution_count": 15,
   "metadata": {
    "ExecuteTime": {
     "end_time": "2019-11-13T14:44:52.983788Z",
     "start_time": "2019-11-13T14:44:52.972834Z"
    }
   },
   "outputs": [
    {
     "data": {
      "text/plain": [
       "[('Employee',),\n",
       " ('Category',),\n",
       " ('Customer',),\n",
       " ('Shipper',),\n",
       " ('Supplier',),\n",
       " ('Order',),\n",
       " ('Product',),\n",
       " ('OrderDetail',),\n",
       " ('CustomerCustomerDemo',),\n",
       " ('CustomerDemographic',),\n",
       " ('Region',),\n",
       " ('Territory',),\n",
       " ('EmployeeTerritory',)]"
      ]
     },
     "execution_count": 15,
     "metadata": {},
     "output_type": "execute_result"
    }
   ],
   "source": [
    "hf.get_tables(cursor)"
   ]
  },
  {
   "cell_type": "markdown",
   "metadata": {},
   "source": [
    "# Q3 - We will investigate the effect of employment length on order total\n",
    "\n",
    "H0 - Employment Length does __NOT__ have a statistically significant effect on sales.<br>\n",
    "HA - Employment Length __DOES__ have a statistically significant effect on sales per unit."
   ]
  },
  {
   "cell_type": "code",
   "execution_count": 16,
   "metadata": {
    "ExecuteTime": {
     "end_time": "2019-11-13T14:44:54.139449Z",
     "start_time": "2019-11-13T14:44:54.117508Z"
    }
   },
   "outputs": [
    {
     "data": {
      "text/html": [
       "<div>\n",
       "<style scoped>\n",
       "    .dataframe tbody tr th:only-of-type {\n",
       "        vertical-align: middle;\n",
       "    }\n",
       "\n",
       "    .dataframe tbody tr th {\n",
       "        vertical-align: top;\n",
       "    }\n",
       "\n",
       "    .dataframe thead th {\n",
       "        text-align: right;\n",
       "    }\n",
       "</style>\n",
       "<table border=\"1\" class=\"dataframe\">\n",
       "  <thead>\n",
       "    <tr style=\"text-align: right;\">\n",
       "      <th></th>\n",
       "      <th>HireDate</th>\n",
       "      <th>UnitPrice</th>\n",
       "      <th>Quantity</th>\n",
       "      <th>Discount</th>\n",
       "      <th>totalprice</th>\n",
       "    </tr>\n",
       "  </thead>\n",
       "  <tbody>\n",
       "    <tr>\n",
       "      <th>0</th>\n",
       "      <td>2025-10-17</td>\n",
       "      <td>14.0</td>\n",
       "      <td>12</td>\n",
       "      <td>0.0</td>\n",
       "      <td>168.0</td>\n",
       "    </tr>\n",
       "    <tr>\n",
       "      <th>1</th>\n",
       "      <td>2025-10-17</td>\n",
       "      <td>9.8</td>\n",
       "      <td>10</td>\n",
       "      <td>0.0</td>\n",
       "      <td>98.0</td>\n",
       "    </tr>\n",
       "    <tr>\n",
       "      <th>2</th>\n",
       "      <td>2025-10-17</td>\n",
       "      <td>34.8</td>\n",
       "      <td>5</td>\n",
       "      <td>0.0</td>\n",
       "      <td>174.0</td>\n",
       "    </tr>\n",
       "    <tr>\n",
       "      <th>3</th>\n",
       "      <td>2025-10-17</td>\n",
       "      <td>18.6</td>\n",
       "      <td>9</td>\n",
       "      <td>0.0</td>\n",
       "      <td>167.4</td>\n",
       "    </tr>\n",
       "    <tr>\n",
       "      <th>4</th>\n",
       "      <td>2025-10-17</td>\n",
       "      <td>42.4</td>\n",
       "      <td>40</td>\n",
       "      <td>0.0</td>\n",
       "      <td>1696.0</td>\n",
       "    </tr>\n",
       "  </tbody>\n",
       "</table>\n",
       "</div>"
      ],
      "text/plain": [
       "     HireDate  UnitPrice  Quantity  Discount  totalprice\n",
       "0  2025-10-17       14.0        12       0.0       168.0\n",
       "1  2025-10-17        9.8        10       0.0        98.0\n",
       "2  2025-10-17       34.8         5       0.0       174.0\n",
       "3  2025-10-17       18.6         9       0.0       167.4\n",
       "4  2025-10-17       42.4        40       0.0      1696.0"
      ]
     },
     "execution_count": 16,
     "metadata": {},
     "output_type": "execute_result"
    }
   ],
   "source": [
    "query = '''select e.hiredate, od.unitprice, od.quantity, od.discount,\n",
    "           ((od.unitprice* (1-od.discount)) * od.quantity) as totalprice\n",
    "           from employee e \n",
    "           JOIN [Order] o on e.id=o.employeeid\n",
    "           JOIN [OrderDetail] od on od.OrderId=o.Id\n",
    "'''\n",
    "\n",
    "df = hf.query_to_df(query, conn)\n",
    "df.head()"
   ]
  },
  {
   "cell_type": "code",
   "execution_count": 17,
   "metadata": {
    "ExecuteTime": {
     "end_time": "2019-11-13T14:44:54.589266Z",
     "start_time": "2019-11-13T14:44:54.582264Z"
    }
   },
   "outputs": [
    {
     "data": {
      "text/plain": [
       "array(['2025-10-17', '2025-05-03', '2024-04-01', '2026-11-15',\n",
       "       '2024-05-01', '2026-03-05', '2024-08-14', '2026-01-02'],\n",
       "      dtype=object)"
      ]
     },
     "execution_count": 17,
     "metadata": {},
     "output_type": "execute_result"
    }
   ],
   "source": [
    "df['HireDate'].unique()"
   ]
  },
  {
   "cell_type": "markdown",
   "metadata": {},
   "source": [
    "First we will need to convert the date to a usable number."
   ]
  },
  {
   "cell_type": "code",
   "execution_count": 18,
   "metadata": {
    "ExecuteTime": {
     "end_time": "2019-11-13T14:44:55.508229Z",
     "start_time": "2019-11-13T14:44:55.502245Z"
    }
   },
   "outputs": [],
   "source": [
    "pd.to_datetime(df.HireDate, infer_datetime_format=True);"
   ]
  },
  {
   "cell_type": "code",
   "execution_count": 19,
   "metadata": {
    "ExecuteTime": {
     "end_time": "2019-11-13T14:44:56.027948Z",
     "start_time": "2019-11-13T14:44:56.016000Z"
    }
   },
   "outputs": [
    {
     "name": "stdout",
     "output_type": "stream",
     "text": [
      "<class 'pandas.core.frame.DataFrame'>\n",
      "RangeIndex: 2155 entries, 0 to 2154\n",
      "Data columns (total 5 columns):\n",
      "HireDate      2155 non-null object\n",
      "UnitPrice     2155 non-null float64\n",
      "Quantity      2155 non-null int64\n",
      "Discount      2155 non-null float64\n",
      "totalprice    2155 non-null float64\n",
      "dtypes: float64(3), int64(1), object(1)\n",
      "memory usage: 84.3+ KB\n"
     ]
    }
   ],
   "source": [
    "df.info()"
   ]
  },
  {
   "cell_type": "code",
   "execution_count": 20,
   "metadata": {
    "ExecuteTime": {
     "end_time": "2019-11-13T14:44:56.898723Z",
     "start_time": "2019-11-13T14:44:56.596532Z"
    }
   },
   "outputs": [
    {
     "data": {
      "text/html": [
       "<div>\n",
       "<style scoped>\n",
       "    .dataframe tbody tr th:only-of-type {\n",
       "        vertical-align: middle;\n",
       "    }\n",
       "\n",
       "    .dataframe tbody tr th {\n",
       "        vertical-align: top;\n",
       "    }\n",
       "\n",
       "    .dataframe thead th {\n",
       "        text-align: right;\n",
       "    }\n",
       "</style>\n",
       "<table border=\"1\" class=\"dataframe\">\n",
       "  <thead>\n",
       "    <tr style=\"text-align: right;\">\n",
       "      <th></th>\n",
       "      <th>HireDate</th>\n",
       "      <th>UnitPrice</th>\n",
       "      <th>Quantity</th>\n",
       "      <th>Discount</th>\n",
       "      <th>totalprice</th>\n",
       "      <th>len_employment</th>\n",
       "    </tr>\n",
       "  </thead>\n",
       "  <tbody>\n",
       "    <tr>\n",
       "      <th>0</th>\n",
       "      <td>2025-10-17</td>\n",
       "      <td>14.0</td>\n",
       "      <td>12</td>\n",
       "      <td>0.0</td>\n",
       "      <td>168.0</td>\n",
       "      <td>394</td>\n",
       "    </tr>\n",
       "    <tr>\n",
       "      <th>1</th>\n",
       "      <td>2025-10-17</td>\n",
       "      <td>9.8</td>\n",
       "      <td>10</td>\n",
       "      <td>0.0</td>\n",
       "      <td>98.0</td>\n",
       "      <td>394</td>\n",
       "    </tr>\n",
       "    <tr>\n",
       "      <th>2</th>\n",
       "      <td>2025-10-17</td>\n",
       "      <td>34.8</td>\n",
       "      <td>5</td>\n",
       "      <td>0.0</td>\n",
       "      <td>174.0</td>\n",
       "      <td>394</td>\n",
       "    </tr>\n",
       "    <tr>\n",
       "      <th>3</th>\n",
       "      <td>2025-10-17</td>\n",
       "      <td>18.6</td>\n",
       "      <td>9</td>\n",
       "      <td>0.0</td>\n",
       "      <td>167.4</td>\n",
       "      <td>394</td>\n",
       "    </tr>\n",
       "    <tr>\n",
       "      <th>4</th>\n",
       "      <td>2025-10-17</td>\n",
       "      <td>42.4</td>\n",
       "      <td>40</td>\n",
       "      <td>0.0</td>\n",
       "      <td>1696.0</td>\n",
       "      <td>394</td>\n",
       "    </tr>\n",
       "  </tbody>\n",
       "</table>\n",
       "</div>"
      ],
      "text/plain": [
       "     HireDate  UnitPrice  Quantity  Discount  totalprice  len_employment\n",
       "0  2025-10-17       14.0        12       0.0       168.0             394\n",
       "1  2025-10-17        9.8        10       0.0        98.0             394\n",
       "2  2025-10-17       34.8         5       0.0       174.0             394\n",
       "3  2025-10-17       18.6         9       0.0       167.4             394\n",
       "4  2025-10-17       42.4        40       0.0      1696.0             394"
      ]
     },
     "execution_count": 20,
     "metadata": {},
     "output_type": "execute_result"
    }
   ],
   "source": [
    "def date_diff(t1, t2):\n",
    "    diff = datetime.datetime.strptime(t1, '%Y-%m-%d') - datetime.datetime.strptime(t2, '%Y-%m-%d')\n",
    "    return diff.days\n",
    "start_date = df.HireDate.max()        \n",
    "df['len_employment'] = [date_diff(start_date, row.HireDate) for index, row in df.iterrows()]\n",
    "df.head()"
   ]
  },
  {
   "cell_type": "code",
   "execution_count": 21,
   "metadata": {
    "ExecuteTime": {
     "end_time": "2019-11-13T14:44:58.453230Z",
     "start_time": "2019-11-13T14:44:57.432964Z"
    }
   },
   "outputs": [
    {
     "data": {
      "image/png": "[encoded data removed]",
      "text/plain": [
       "<Figure size 360x576 with 8 Axes>"
      ]
     },
     "metadata": {
      "needs_background": "light"
     },
     "output_type": "display_data"
    }
   ],
   "source": [
    " df.hist('totalprice', by='len_employment', figsize=(5,8), layout=(4,2), xrot=45);"
   ]
  },
  {
   "cell_type": "code",
   "execution_count": 22,
   "metadata": {
    "ExecuteTime": {
     "end_time": "2019-11-13T14:44:58.774370Z",
     "start_time": "2019-11-13T14:44:58.510079Z"
    }
   },
   "outputs": [
    {
     "data": {
      "text/plain": [
       "array([[<matplotlib.axes._subplots.AxesSubplot object at 0x000001E5686CFF60>]],\n",
       "      dtype=object)"
      ]
     },
     "execution_count": 22,
     "metadata": {},
     "output_type": "execute_result"
    },
    {
     "data": {
      "image/png": "[encoded data removed]",
      "text/plain": [
       "<Figure size 432x288 with 1 Axes>"
      ]
     },
     "metadata": {
      "needs_background": "light"
     },
     "output_type": "display_data"
    }
   ],
   "source": [
    "df.hist('len_employment')"
   ]
  },
  {
   "cell_type": "code",
   "execution_count": 23,
   "metadata": {
    "ExecuteTime": {
     "end_time": "2019-11-13T14:44:59.008794Z",
     "start_time": "2019-11-13T14:44:59.000779Z"
    }
   },
   "outputs": [
    {
     "data": {
      "text/plain": [
       "[394, 561, 958, 0, 928, 255, 823, 317]"
      ]
     },
     "execution_count": 23,
     "metadata": {},
     "output_type": "execute_result"
    }
   ],
   "source": [
    "tenure = list(df.len_employment.unique())\n",
    "tenure"
   ]
  },
  {
   "cell_type": "code",
   "execution_count": 24,
   "metadata": {
    "ExecuteTime": {
     "end_time": "2019-11-13T14:44:59.699957Z",
     "start_time": "2019-11-13T14:44:59.674995Z"
    }
   },
   "outputs": [
    {
     "name": "stdout",
     "output_type": "stream",
     "text": [
      "len_0\n",
      "p= 7.304625194302649e-18\n",
      " The data is not normally distributed.\n",
      "False\n",
      "len_255\n",
      "p= 4.103233068163989e-17\n",
      " The data is not normally distributed.\n",
      "False\n",
      "len_317\n",
      "p= 6.9448335356879765e-22\n",
      " The data is not normally distributed.\n",
      "False\n",
      "len_394\n",
      "p= 1.3690730313917236e-25\n",
      " The data is not normally distributed.\n",
      "False\n",
      "len_561\n",
      "p= 1.476363011536015e-32\n",
      " The data is not normally distributed.\n",
      "False\n",
      "len_823\n",
      "p= 4.964441884255779e-27\n",
      " The data is not normally distributed.\n",
      "False\n",
      "len_928\n",
      "p= 2.0911807932890392e-32\n",
      " The data is not normally distributed.\n",
      "False\n",
      "len_958\n",
      "p= 3.4248062893919227e-29\n",
      " The data is not normally distributed.\n",
      "False\n"
     ]
    }
   ],
   "source": [
    "len_0 = df.loc[df['len_employment'] == 0]\n",
    "len_255 = df.loc[df['len_employment'] == 255]\n",
    "len_317 = df.loc[df['len_employment'] == 317]\n",
    "len_394 = df.loc[df['len_employment'] == 394]\n",
    "len_561 = df.loc[df['len_employment'] == 561]\n",
    "len_823 = df.loc[df['len_employment'] == 823]\n",
    "len_928 = df.loc[df['len_employment'] == 928]\n",
    "len_958 = df.loc[df['len_employment'] == 958]\n",
    "\n",
    "len_0 = len_0['totalprice']\n",
    "len_255 = len_255['totalprice']\n",
    "len_317 = len_317['totalprice']\n",
    "len_394 = len_394['totalprice']\n",
    "len_561 = len_561['totalprice']\n",
    "len_823 = len_823['totalprice']\n",
    "len_928 = len_928['totalprice']\n",
    "len_958 = len_958['totalprice']\n",
    "\n",
    "print('len_0')\n",
    "print(hf.test_normality(len_0))\n",
    "print('len_255')\n",
    "print(hf.test_normality(len_255))\n",
    "print('len_317')\n",
    "print(hf.test_normality(len_317))\n",
    "print('len_394')\n",
    "print(hf.test_normality(len_394))\n",
    "print('len_561')\n",
    "print(hf.test_normality(len_561))\n",
    "print('len_823')\n",
    "print(hf.test_normality(len_823))\n",
    "print('len_928')\n",
    "print(hf.test_normality(len_928))\n",
    "print('len_958')\n",
    "print(hf.test_normality(len_958))"
   ]
  },
  {
   "cell_type": "code",
   "execution_count": 25,
   "metadata": {
    "ExecuteTime": {
     "end_time": "2019-11-13T14:45:00.591416Z",
     "start_time": "2019-11-13T14:45:00.575460Z"
    }
   },
   "outputs": [],
   "source": [
    "len_0mean = np.mean(len_0)\n",
    "len_0std = np.std(len_0, ddof=1)\n",
    "\n",
    "samp_len_0 = np.random.normal(loc=len_0mean, scale=len_0std, size=50)\n",
    "len_255mean = np.mean(len_255)\n",
    "len_255std = np.std(len_255, ddof=1)\n",
    "\n",
    "samp_len_255 = np.random.normal(loc=len_255mean, scale=len_255std, size=50)\n",
    "len_317mean = np.mean(len_317)\n",
    "len_317std = np.std(len_317, ddof=1)\n",
    "\n",
    "samp_len_317 = np.random.normal(loc=len_317mean, scale=len_317std, size=50)\n",
    "len_394mean = np.mean(len_394)\n",
    "len_394std = np.std(len_394, ddof=1)\n",
    "\n",
    "samp_len_394 = np.random.normal(loc=len_394mean, scale=len_394std, size=50)\n",
    "len_561mean = np.mean(len_561)\n",
    "len_561std = np.std(len_561, ddof=1)\n",
    "\n",
    "samp_len_561 = np.random.normal(loc=len_561mean, scale=len_561std, size=50)\n",
    "len_823mean = np.mean(len_823)\n",
    "len_823std = np.std(len_823, ddof=1)\n",
    "\n",
    "samp_len_823 = np.random.normal(loc=len_823mean, scale=len_823std, size=50)\n",
    "len_928mean = np.mean(len_928)\n",
    "len_928std = np.std(len_928, ddof=1)\n",
    "\n",
    "samp_len_928 = np.random.normal(loc=len_928mean, scale=len_928std, size=50)\n",
    "len_958mean = np.mean(len_958)\n",
    "len_958std = np.std(len_958, ddof=1)\n",
    "\n",
    "samp_len_958 = np.random.normal(loc=len_958mean, scale=len_958std, size=50)"
   ]
  },
  {
   "cell_type": "code",
   "execution_count": 26,
   "metadata": {
    "ExecuteTime": {
     "end_time": "2019-11-13T14:45:01.632628Z",
     "start_time": "2019-11-13T14:45:01.268605Z"
    }
   },
   "outputs": [
    {
     "data": {
      "text/plain": [
       "<matplotlib.axes._subplots.AxesSubplot at 0x1e5681366d8>"
      ]
     },
     "execution_count": 26,
     "metadata": {},
     "output_type": "execute_result"
    },
    {
     "data": {
      "image/png": "[encoded data removed]",
      "text/plain": [
       "<Figure size 432x288 with 1 Axes>"
      ]
     },
     "metadata": {
      "needs_background": "light"
     },
     "output_type": "display_data"
    }
   ],
   "source": [
    "sns.distplot(samp_len_0)\n",
    "sns.distplot(samp_len_255)\n",
    "sns.distplot(samp_len_317)\n",
    "sns.distplot(samp_len_394)\n",
    "sns.distplot(samp_len_561)\n",
    "sns.distplot(samp_len_823)\n",
    "sns.distplot(samp_len_928)\n",
    "sns.distplot(samp_len_958)"
   ]
  },
  {
   "cell_type": "code",
   "execution_count": 27,
   "metadata": {
    "ExecuteTime": {
     "end_time": "2019-11-13T14:45:02.242191Z",
     "start_time": "2019-11-13T14:45:02.232195Z"
    }
   },
   "outputs": [
    {
     "name": "stdout",
     "output_type": "stream",
     "text": [
      "p= 0.6125956177711487\n",
      " The data is normally distributed.\n",
      "p= 0.5751800537109375\n",
      " The data is normally distributed.\n",
      "p= 0.9683454036712646\n",
      " The data is normally distributed.\n",
      "p= 0.11091955751180649\n",
      " The data is normally distributed.\n",
      "p= 0.8645208477973938\n",
      " The data is normally distributed.\n",
      "p= 0.4008171558380127\n",
      " The data is normally distributed.\n",
      "p= 0.03176334872841835\n",
      " The data is not normally distributed.\n",
      "p= 0.23828746378421783\n",
      " The data is normally distributed.\n"
     ]
    },
    {
     "data": {
      "text/plain": [
       "True"
      ]
     },
     "execution_count": 27,
     "metadata": {},
     "output_type": "execute_result"
    }
   ],
   "source": [
    "hf.test_normality(samp_len_0)\n",
    "hf.test_normality(samp_len_255)\n",
    "hf.test_normality(samp_len_317)\n",
    "hf.test_normality(samp_len_394)\n",
    "hf.test_normality(samp_len_561)\n",
    "hf.test_normality(samp_len_823)\n",
    "hf.test_normality(samp_len_928)\n",
    "hf.test_normality(samp_len_958)"
   ]
  },
  {
   "cell_type": "code",
   "execution_count": 28,
   "metadata": {
    "ExecuteTime": {
     "end_time": "2019-11-13T14:45:04.176933Z",
     "start_time": "2019-11-13T14:45:04.168957Z"
    }
   },
   "outputs": [
    {
     "name": "stdout",
     "output_type": "stream",
     "text": [
      "p= 4.3697320943514287e-07\n",
      " Variances are not equal.\n"
     ]
    },
    {
     "data": {
      "text/plain": [
       "False"
      ]
     },
     "execution_count": 28,
     "metadata": {},
     "output_type": "execute_result"
    }
   ],
   "source": [
    "hf.test_equal_variance(samp_len_0, samp_len_255)"
   ]
  },
  {
   "cell_type": "code",
   "execution_count": 29,
   "metadata": {
    "ExecuteTime": {
     "end_time": "2019-11-13T14:45:04.836169Z",
     "start_time": "2019-11-13T14:45:04.826198Z"
    }
   },
   "outputs": [],
   "source": [
    "test_df = pd.DataFrame()\n",
    "test_df['samp_len_0'] = samp_len_0\n",
    "test_df['samp_len_255'] = samp_len_255\n",
    "test_df['samp_len_317'] = samp_len_317\n",
    "test_df['samp_len_394'] = samp_len_394\n",
    "test_df['samp_len_561'] = samp_len_561\n",
    "test_df['samp_len_823'] = samp_len_823\n",
    "test_df['samp_len_928'] = samp_len_928\n",
    "test_df['samp_len_958'] = samp_len_958"
   ]
  },
  {
   "cell_type": "code",
   "execution_count": 30,
   "metadata": {
    "ExecuteTime": {
     "end_time": "2019-11-13T14:45:05.658171Z",
     "start_time": "2019-11-13T14:45:05.621238Z"
    }
   },
   "outputs": [
    {
     "data": {
      "text/html": [
       "<table class=\"simpletable\">\n",
       "<caption>OLS Regression Results</caption>\n",
       "<tr>\n",
       "  <th>Dep. Variable:</th>      <td>samp_len_958</td>   <th>  R-squared:         </th> <td>   0.162</td>\n",
       "</tr>\n",
       "<tr>\n",
       "  <th>Model:</th>                   <td>OLS</td>       <th>  Adj. R-squared:    </th> <td>   0.022</td>\n",
       "</tr>\n",
       "<tr>\n",
       "  <th>Method:</th>             <td>Least Squares</td>  <th>  F-statistic:       </th> <td>   1.159</td>\n",
       "</tr>\n",
       "<tr>\n",
       "  <th>Date:</th>             <td>Wed, 13 Nov 2019</td> <th>  Prob (F-statistic):</th>  <td> 0.347</td> \n",
       "</tr>\n",
       "<tr>\n",
       "  <th>Time:</th>                 <td>09:45:05</td>     <th>  Log-Likelihood:    </th> <td> -409.79</td>\n",
       "</tr>\n",
       "<tr>\n",
       "  <th>No. Observations:</th>      <td>    50</td>      <th>  AIC:               </th> <td>   835.6</td>\n",
       "</tr>\n",
       "<tr>\n",
       "  <th>Df Residuals:</th>          <td>    42</td>      <th>  BIC:               </th> <td>   850.9</td>\n",
       "</tr>\n",
       "<tr>\n",
       "  <th>Df Model:</th>              <td>     7</td>      <th>                     </th>     <td> </td>   \n",
       "</tr>\n",
       "<tr>\n",
       "  <th>Covariance Type:</th>      <td>nonrobust</td>    <th>                     </th>     <td> </td>   \n",
       "</tr>\n",
       "</table>\n",
       "<table class=\"simpletable\">\n",
       "<tr>\n",
       "        <td></td>          <th>coef</th>     <th>std err</th>      <th>t</th>      <th>P>|t|</th>  <th>[0.025</th>    <th>0.975]</th>  \n",
       "</tr>\n",
       "<tr>\n",
       "  <th>Intercept</th>    <td>  776.6861</td> <td>  341.590</td> <td>    2.274</td> <td> 0.028</td> <td>   87.330</td> <td> 1466.043</td>\n",
       "</tr>\n",
       "<tr>\n",
       "  <th>samp_len_255</th> <td>    0.1681</td> <td>    0.253</td> <td>    0.665</td> <td> 0.510</td> <td>   -0.342</td> <td>    0.678</td>\n",
       "</tr>\n",
       "<tr>\n",
       "  <th>samp_len_317</th> <td>    0.0298</td> <td>    0.127</td> <td>    0.234</td> <td> 0.816</td> <td>   -0.227</td> <td>    0.287</td>\n",
       "</tr>\n",
       "<tr>\n",
       "  <th>samp_len_394</th> <td>    0.3017</td> <td>    0.200</td> <td>    1.509</td> <td> 0.139</td> <td>   -0.102</td> <td>    0.705</td>\n",
       "</tr>\n",
       "<tr>\n",
       "  <th>samp_len_561</th> <td>    0.0368</td> <td>    0.210</td> <td>    0.175</td> <td> 0.862</td> <td>   -0.387</td> <td>    0.461</td>\n",
       "</tr>\n",
       "<tr>\n",
       "  <th>samp_len_823</th> <td>   -0.2478</td> <td>    0.130</td> <td>   -1.912</td> <td> 0.063</td> <td>   -0.509</td> <td>    0.014</td>\n",
       "</tr>\n",
       "<tr>\n",
       "  <th>samp_len_928</th> <td>    0.0685</td> <td>    0.120</td> <td>    0.571</td> <td> 0.571</td> <td>   -0.174</td> <td>    0.311</td>\n",
       "</tr>\n",
       "<tr>\n",
       "  <th>samp_len_0</th>   <td>   -0.1037</td> <td>    0.121</td> <td>   -0.858</td> <td> 0.396</td> <td>   -0.348</td> <td>    0.140</td>\n",
       "</tr>\n",
       "</table>\n",
       "<table class=\"simpletable\">\n",
       "<tr>\n",
       "  <th>Omnibus:</th>       <td> 0.542</td> <th>  Durbin-Watson:     </th> <td>   2.168</td>\n",
       "</tr>\n",
       "<tr>\n",
       "  <th>Prob(Omnibus):</th> <td> 0.763</td> <th>  Jarque-Bera (JB):  </th> <td>   0.643</td>\n",
       "</tr>\n",
       "<tr>\n",
       "  <th>Skew:</th>          <td>-0.028</td> <th>  Prob(JB):          </th> <td>   0.725</td>\n",
       "</tr>\n",
       "<tr>\n",
       "  <th>Kurtosis:</th>      <td> 2.447</td> <th>  Cond. No.          </th> <td>4.77e+03</td>\n",
       "</tr>\n",
       "</table><br/><br/>Warnings:<br/>[1] Standard Errors assume that the covariance matrix of the errors is correctly specified.<br/>[2] The condition number is large, 4.77e+03. This might indicate that there are<br/>strong multicollinearity or other numerical problems."
      ],
      "text/plain": [
       "<class 'statsmodels.iolib.summary.Summary'>\n",
       "\"\"\"\n",
       "                            OLS Regression Results                            \n",
       "==============================================================================\n",
       "Dep. Variable:           samp_len_958   R-squared:                       0.162\n",
       "Model:                            OLS   Adj. R-squared:                  0.022\n",
       "Method:                 Least Squares   F-statistic:                     1.159\n",
       "Date:                Wed, 13 Nov 2019   Prob (F-statistic):              0.347\n",
       "Time:                        09:45:05   Log-Likelihood:                -409.79\n",
       "No. Observations:                  50   AIC:                             835.6\n",
       "Df Residuals:                      42   BIC:                             850.9\n",
       "Df Model:                           7                                         \n",
       "Covariance Type:            nonrobust                                         \n",
       "================================================================================\n",
       "                   coef    std err          t      P>|t|      [0.025      0.975]\n",
       "--------------------------------------------------------------------------------\n",
       "Intercept      776.6861    341.590      2.274      0.028      87.330    1466.043\n",
       "samp_len_255     0.1681      0.253      0.665      0.510      -0.342       0.678\n",
       "samp_len_317     0.0298      0.127      0.234      0.816      -0.227       0.287\n",
       "samp_len_394     0.3017      0.200      1.509      0.139      -0.102       0.705\n",
       "samp_len_561     0.0368      0.210      0.175      0.862      -0.387       0.461\n",
       "samp_len_823    -0.2478      0.130     -1.912      0.063      -0.509       0.014\n",
       "samp_len_928     0.0685      0.120      0.571      0.571      -0.174       0.311\n",
       "samp_len_0      -0.1037      0.121     -0.858      0.396      -0.348       0.140\n",
       "==============================================================================\n",
       "Omnibus:                        0.542   Durbin-Watson:                   2.168\n",
       "Prob(Omnibus):                  0.763   Jarque-Bera (JB):                0.643\n",
       "Skew:                          -0.028   Prob(JB):                        0.725\n",
       "Kurtosis:                       2.447   Cond. No.                     4.77e+03\n",
       "==============================================================================\n",
       "\n",
       "Warnings:\n",
       "[1] Standard Errors assume that the covariance matrix of the errors is correctly specified.\n",
       "[2] The condition number is large, 4.77e+03. This might indicate that there are\n",
       "strong multicollinearity or other numerical problems.\n",
       "\"\"\""
      ]
     },
     "execution_count": 30,
     "metadata": {},
     "output_type": "execute_result"
    }
   ],
   "source": [
    "formula = 'samp_len_958 ~ samp_len_255 + samp_len_317 + samp_len_394 + samp_len_561 + samp_len_823 + samp_len_928 + samp_len_0'\n",
    "lm = ols(formula, test_df).fit()\n",
    "lm.summary()"
   ]
  },
  {
   "cell_type": "code",
   "execution_count": 31,
   "metadata": {
    "ExecuteTime": {
     "end_time": "2019-11-13T14:45:07.291764Z",
     "start_time": "2019-11-13T14:45:07.284786Z"
    }
   },
   "outputs": [
    {
     "name": "stdout",
     "output_type": "stream",
     "text": [
      "H-stat 9.867516209476207\n",
      "pvalue 0.19620635530056438\n"
     ]
    }
   ],
   "source": [
    "H, pval = mstats.kruskalwallis(samp_len_0, samp_len_255, samp_len_317, samp_len_394, samp_len_561, samp_len_823, samp_len_928, samp_len_958)\n",
    "print('H-stat', H)\n",
    "print('pvalue', pval)"
   ]
  },
  {
   "cell_type": "markdown",
   "metadata": {},
   "source": [
    "From the Kruskal_Wallace above, the p-value greater than .05 indicates that the data is of the same distribution\n",
    "with this result, we __fail to reject our Null H0__"
   ]
  }
 ],
 "metadata": {
  "kernelspec": {
   "display_name": "Python [conda env:learn-env] *",
   "language": "python",
   "name": "conda-env-learn-env-py"
  },
  "language_info": {
   "codemirror_mode": {
    "name": "ipython",
    "version": 3
   },
   "file_extension": ".py",
   "mimetype": "text/x-python",
   "name": "python",
   "nbconvert_exporter": "python",
   "pygments_lexer": "ipython3",
   "version": "3.6.6"
  },
  "toc": {
   "base_numbering": 1,
   "nav_menu": {},
   "number_sections": false,
   "sideBar": true,
   "skip_h1_title": false,
   "title_cell": "Table of Contents",
   "title_sidebar": "Contents",
   "toc_cell": false,
   "toc_position": {},
   "toc_section_display": true,
   "toc_window_display": false
  },
  "varInspector": {
   "cols": {
    "lenName": 16,
    "lenType": 16,
    "lenVar": 40
   },
   "kernels_config": {
    "python": {
     "delete_cmd_postfix": "",
     "delete_cmd_prefix": "del ",
     "library": "var_list.py",
     "varRefreshCmd": "print(var_dic_list())"
    },
    "r": {
     "delete_cmd_postfix": ") ",
     "delete_cmd_prefix": "rm(",
     "library": "var_list.r",
     "varRefreshCmd": "cat(var_dic_list()) "
    }
   },
   "types_to_exclude": [
    "module",
    "function",
    "builtin_function_or_method",
    "instance",
    "_Feature"
   ],
   "window_display": false
  }
 },
 "nbformat": 4,
 "nbformat_minor": 2
}
