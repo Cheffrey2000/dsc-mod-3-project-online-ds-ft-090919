{
 "cells": [
  {
   "cell_type": "markdown",
   "metadata": {},
   "source": [
    "## We'll start by importing all of the necessary libraries."
   ]
  },
  {
   "cell_type": "code",
   "execution_count": 1,
   "metadata": {
    "ExecuteTime": {
     "end_time": "2019-11-15T15:05:22.884920Z",
     "start_time": "2019-11-15T15:05:20.726439Z"
    }
   },
   "outputs": [
    {
     "data": {
      "text/plain": [
       "<module 'helper_functions' from 'C:\\\\Users\\\\Owner\\\\Desktop\\\\Data Science\\\\Flatiron_Projects\\\\mod-3-project\\\\helper_functions.py'>"
      ]
     },
     "execution_count": 1,
     "metadata": {},
     "output_type": "execute_result"
    }
   ],
   "source": [
    "from importlib import reload\n",
    "# custom functions \n",
    "import helper_functions as hf\n",
    "\n",
    "import sqlite3\n",
    "\n",
    "import numpy as np\n",
    "from numpy import std, mean, sqrt\n",
    "\n",
    "import pandas as pd\n",
    "import seaborn as sns\n",
    "import scipy.stats as scs\n",
    "import matplotlib.pyplot as plt\n",
    "\n",
    "from statsmodels.stats.power import tt_ind_solve_power\n",
    "\n",
    "from statsmodels.stats.multicomp import pairwise_tukeyhsd as Tukey\n",
    "from statsmodels.stats.multicomp import MultiComparison as M_comp\n",
    "np.random.seed(30)\n",
    "reload(hf )"
   ]
  },
  {
   "cell_type": "markdown",
   "metadata": {},
   "source": [
    "### Setting up the connection to the database."
   ]
  },
  {
   "cell_type": "code",
   "execution_count": 2,
   "metadata": {
    "ExecuteTime": {
     "end_time": "2019-11-15T15:05:22.898914Z",
     "start_time": "2019-11-15T15:05:22.894895Z"
    }
   },
   "outputs": [],
   "source": [
    "# Setting up the connection to the database\n",
    "conn, cursor = hf.connection()"
   ]
  },
  {
   "cell_type": "markdown",
   "metadata": {},
   "source": [
    "### looking at the table structure"
   ]
  },
  {
   "cell_type": "code",
   "execution_count": 3,
   "metadata": {
    "ExecuteTime": {
     "end_time": "2019-11-15T15:05:27.412989Z",
     "start_time": "2019-11-15T15:05:27.399025Z"
    }
   },
   "outputs": [
    {
     "data": {
      "text/plain": [
       "[('Employee',),\n",
       " ('Category',),\n",
       " ('Customer',),\n",
       " ('Shipper',),\n",
       " ('Supplier',),\n",
       " ('Order',),\n",
       " ('Product',),\n",
       " ('OrderDetail',),\n",
       " ('CustomerCustomerDemo',),\n",
       " ('CustomerDemographic',),\n",
       " ('Region',),\n",
       " ('Territory',),\n",
       " ('EmployeeTerritory',)]"
      ]
     },
     "execution_count": 3,
     "metadata": {},
     "output_type": "execute_result"
    }
   ],
   "source": [
    "hf.get_tables(cursor)"
   ]
  },
  {
   "cell_type": "markdown",
   "metadata": {},
   "source": [
    "# Q1 - we are attempting to learn if discount amount has a statistically significant effect on the quantity of a product in an order? If so, at what level(s) of discount?\n",
    "\n",
    "H0 - Discount does __NOT__ have a statistically significant effect on order quantity.<br>\n",
    "HA - Discount __DOES__ have a statistically significant effect on order quantity.\n",
    "\n",
    "- If H0 is rejected, the levels of significance will be investigated."
   ]
  },
  {
   "cell_type": "markdown",
   "metadata": {},
   "source": [
    "#### We will begin by retrieving the necessary data for our initial EDA."
   ]
  },
  {
   "cell_type": "code",
   "execution_count": 4,
   "metadata": {
    "ExecuteTime": {
     "end_time": "2019-11-15T15:08:15.738653Z",
     "start_time": "2019-11-15T15:08:15.678813Z"
    }
   },
   "outputs": [
    {
     "data": {
      "text/html": [
       "<div>\n",
       "<style scoped>\n",
       "    .dataframe tbody tr th:only-of-type {\n",
       "        vertical-align: middle;\n",
       "    }\n",
       "\n",
       "    .dataframe tbody tr th {\n",
       "        vertical-align: top;\n",
       "    }\n",
       "\n",
       "    .dataframe thead th {\n",
       "        text-align: right;\n",
       "    }\n",
       "</style>\n",
       "<table border=\"1\" class=\"dataframe\">\n",
       "  <thead>\n",
       "    <tr style=\"text-align: right;\">\n",
       "      <th></th>\n",
       "      <th>Id</th>\n",
       "      <th>OrderId</th>\n",
       "      <th>ProductId</th>\n",
       "      <th>UnitPrice</th>\n",
       "      <th>Quantity</th>\n",
       "      <th>Discount</th>\n",
       "    </tr>\n",
       "  </thead>\n",
       "  <tbody>\n",
       "    <tr>\n",
       "      <th>0</th>\n",
       "      <td>10248/11</td>\n",
       "      <td>10248</td>\n",
       "      <td>11</td>\n",
       "      <td>14.0</td>\n",
       "      <td>12</td>\n",
       "      <td>0.0</td>\n",
       "    </tr>\n",
       "    <tr>\n",
       "      <th>1</th>\n",
       "      <td>10248/42</td>\n",
       "      <td>10248</td>\n",
       "      <td>42</td>\n",
       "      <td>9.8</td>\n",
       "      <td>10</td>\n",
       "      <td>0.0</td>\n",
       "    </tr>\n",
       "    <tr>\n",
       "      <th>2</th>\n",
       "      <td>10248/72</td>\n",
       "      <td>10248</td>\n",
       "      <td>72</td>\n",
       "      <td>34.8</td>\n",
       "      <td>5</td>\n",
       "      <td>0.0</td>\n",
       "    </tr>\n",
       "    <tr>\n",
       "      <th>3</th>\n",
       "      <td>10249/14</td>\n",
       "      <td>10249</td>\n",
       "      <td>14</td>\n",
       "      <td>18.6</td>\n",
       "      <td>9</td>\n",
       "      <td>0.0</td>\n",
       "    </tr>\n",
       "    <tr>\n",
       "      <th>4</th>\n",
       "      <td>10249/51</td>\n",
       "      <td>10249</td>\n",
       "      <td>51</td>\n",
       "      <td>42.4</td>\n",
       "      <td>40</td>\n",
       "      <td>0.0</td>\n",
       "    </tr>\n",
       "  </tbody>\n",
       "</table>\n",
       "</div>"
      ],
      "text/plain": [
       "         Id  OrderId  ProductId  UnitPrice  Quantity  Discount\n",
       "0  10248/11    10248         11       14.0        12       0.0\n",
       "1  10248/42    10248         42        9.8        10       0.0\n",
       "2  10248/72    10248         72       34.8         5       0.0\n",
       "3  10249/14    10249         14       18.6         9       0.0\n",
       "4  10249/51    10249         51       42.4        40       0.0"
      ]
     },
     "execution_count": 4,
     "metadata": {},
     "output_type": "execute_result"
    }
   ],
   "source": [
    "df = hf.get_table(conn, table='OrderDetail')\n",
    "df.head()"
   ]
  },
  {
   "cell_type": "code",
   "execution_count": null,
   "metadata": {},
   "outputs": [],
   "source": [
    "df.style()"
   ]
  },
  {
   "cell_type": "code",
   "execution_count": 5,
   "metadata": {
    "ExecuteTime": {
     "end_time": "2019-11-13T14:43:43.292080Z",
     "start_time": "2019-11-13T14:43:43.284100Z"
    }
   },
   "outputs": [
    {
     "data": {
      "text/plain": [
       "array([0.  , 0.15, 0.05, 0.2 , 0.25, 0.1 , 0.02, 0.03, 0.04, 0.06, 0.01])"
      ]
     },
     "execution_count": 5,
     "metadata": {},
     "output_type": "execute_result"
    }
   ],
   "source": [
    "df['Discount'].unique()"
   ]
  },
  {
   "cell_type": "markdown",
   "metadata": {},
   "source": [
    "#### We will separate out the discounted orders and non-discounted orders"
   ]
  },
  {
   "cell_type": "code",
   "execution_count": 6,
   "metadata": {
    "ExecuteTime": {
     "end_time": "2019-11-13T14:43:43.729079Z",
     "start_time": "2019-11-13T14:43:43.708132Z"
    }
   },
   "outputs": [
    {
     "data": {
      "text/html": [
       "<div>\n",
       "<style scoped>\n",
       "    .dataframe tbody tr th:only-of-type {\n",
       "        vertical-align: middle;\n",
       "    }\n",
       "\n",
       "    .dataframe tbody tr th {\n",
       "        vertical-align: top;\n",
       "    }\n",
       "\n",
       "    .dataframe thead th {\n",
       "        text-align: right;\n",
       "    }\n",
       "</style>\n",
       "<table border=\"1\" class=\"dataframe\">\n",
       "  <thead>\n",
       "    <tr style=\"text-align: right;\">\n",
       "      <th></th>\n",
       "      <th>Id</th>\n",
       "      <th>OrderId</th>\n",
       "      <th>ProductId</th>\n",
       "      <th>UnitPrice</th>\n",
       "      <th>Quantity</th>\n",
       "      <th>Discount</th>\n",
       "      <th>discounted</th>\n",
       "    </tr>\n",
       "  </thead>\n",
       "  <tbody>\n",
       "    <tr>\n",
       "      <th>0</th>\n",
       "      <td>10248/11</td>\n",
       "      <td>10248</td>\n",
       "      <td>11</td>\n",
       "      <td>14.0</td>\n",
       "      <td>12</td>\n",
       "      <td>0.0</td>\n",
       "      <td>0</td>\n",
       "    </tr>\n",
       "    <tr>\n",
       "      <th>1</th>\n",
       "      <td>10248/42</td>\n",
       "      <td>10248</td>\n",
       "      <td>42</td>\n",
       "      <td>9.8</td>\n",
       "      <td>10</td>\n",
       "      <td>0.0</td>\n",
       "      <td>0</td>\n",
       "    </tr>\n",
       "    <tr>\n",
       "      <th>2</th>\n",
       "      <td>10248/72</td>\n",
       "      <td>10248</td>\n",
       "      <td>72</td>\n",
       "      <td>34.8</td>\n",
       "      <td>5</td>\n",
       "      <td>0.0</td>\n",
       "      <td>0</td>\n",
       "    </tr>\n",
       "    <tr>\n",
       "      <th>3</th>\n",
       "      <td>10249/14</td>\n",
       "      <td>10249</td>\n",
       "      <td>14</td>\n",
       "      <td>18.6</td>\n",
       "      <td>9</td>\n",
       "      <td>0.0</td>\n",
       "      <td>0</td>\n",
       "    </tr>\n",
       "    <tr>\n",
       "      <th>4</th>\n",
       "      <td>10249/51</td>\n",
       "      <td>10249</td>\n",
       "      <td>51</td>\n",
       "      <td>42.4</td>\n",
       "      <td>40</td>\n",
       "      <td>0.0</td>\n",
       "      <td>0</td>\n",
       "    </tr>\n",
       "  </tbody>\n",
       "</table>\n",
       "</div>"
      ],
      "text/plain": [
       "         Id  OrderId  ProductId  UnitPrice  Quantity  Discount  discounted\n",
       "0  10248/11    10248         11       14.0        12       0.0           0\n",
       "1  10248/42    10248         42        9.8        10       0.0           0\n",
       "2  10248/72    10248         72       34.8         5       0.0           0\n",
       "3  10249/14    10249         14       18.6         9       0.0           0\n",
       "4  10249/51    10249         51       42.4        40       0.0           0"
      ]
     },
     "execution_count": 6,
     "metadata": {},
     "output_type": "execute_result"
    }
   ],
   "source": [
    "df['discounted'] = [1 if d > 0 else 0 for d in df.Discount]\n",
    "df.head()"
   ]
  },
  {
   "cell_type": "code",
   "execution_count": 7,
   "metadata": {
    "ExecuteTime": {
     "end_time": "2019-11-13T14:43:43.927547Z",
     "start_time": "2019-11-13T14:43:43.917574Z"
    }
   },
   "outputs": [],
   "source": [
    "disc_vals = df.loc[df.discounted > 0, 'Quantity']\n",
    "non_disc_vals = df.loc[df.discounted == 0, 'Quantity']\n"
   ]
  },
  {
   "cell_type": "code",
   "execution_count": 8,
   "metadata": {
    "ExecuteTime": {
     "end_time": "2019-11-13T14:43:44.132019Z",
     "start_time": "2019-11-13T14:43:44.124019Z"
    }
   },
   "outputs": [
    {
     "data": {
      "text/plain": [
       "6     35\n",
       "7     15\n",
       "8      6\n",
       "9     15\n",
       "11    40\n",
       "Name: Quantity, dtype: int64"
      ]
     },
     "execution_count": 8,
     "metadata": {},
     "output_type": "execute_result"
    }
   ],
   "source": [
    "disc_vals.head()"
   ]
  },
  {
   "cell_type": "code",
   "execution_count": 9,
   "metadata": {
    "ExecuteTime": {
     "end_time": "2019-11-13T14:43:44.803205Z",
     "start_time": "2019-11-13T14:43:44.337049Z"
    }
   },
   "outputs": [
    {
     "data": {
      "image/png": "[encoded data removed]",
      "text/plain": [
       "<Figure size 936x576 with 1 Axes>"
      ]
     },
     "metadata": {
      "needs_background": "light"
     },
     "output_type": "display_data"
    }
   ],
   "source": [
    "hf.get_hist(disc_vals, non_disc_vals, label1='Discounted', label2='Non-Discounted', gr_label_x='Number Ordered', gr_label_y='Counts')"
   ]
  },
  {
   "cell_type": "markdown",
   "metadata": {},
   "source": [
    "Looking at the data, they appear to be very similar.<br>\n",
    "Our assumptions are that the data is normal, and the variances are equal, so we will test our assumptions first<br>\n",
    "- Using the Shapiro test for normality\n",
    "- Using the Lavene test for equal variances"
   ]
  },
  {
   "cell_type": "code",
   "execution_count": 10,
   "metadata": {
    "ExecuteTime": {
     "end_time": "2019-11-13T14:43:44.897963Z",
     "start_time": "2019-11-13T14:43:44.874014Z"
    }
   },
   "outputs": [
    {
     "name": "stdout",
     "output_type": "stream",
     "text": [
      "p= 0.00012091378376079568\n",
      " Variances are not equal.\n",
      "p= 6.88120409395894e-26\n",
      " The data is not normally distributed.\n",
      "p= 3.803856556577728e-34\n",
      " The data is not normally distributed.\n"
     ]
    },
    {
     "data": {
      "text/plain": [
       "False"
      ]
     },
     "execution_count": 10,
     "metadata": {},
     "output_type": "execute_result"
    }
   ],
   "source": [
    "hf.test_equal_variance(disc_vals, non_disc_vals)\n",
    "hf.test_normality(disc_vals)\n",
    "hf.test_normality(non_disc_vals)"
   ]
  },
  {
   "cell_type": "markdown",
   "metadata": {},
   "source": [
    "Since the p-value of the Levene test for equal variances is less than .05, the variances are not equal.\n",
    "Also, with the p-values of the Shapiro test above .05, this indicates that the data is not normally distributed.\n",
    "We will perform a sampling distribution of the means to normalize it."
   ]
  },
  {
   "cell_type": "code",
   "execution_count": 11,
   "metadata": {
    "ExecuteTime": {
     "end_time": "2019-11-13T14:43:45.262970Z",
     "start_time": "2019-11-13T14:43:45.242027Z"
    }
   },
   "outputs": [],
   "source": [
    "disc_sample_means = []\n",
    "non_disc_sample_means = []\n",
    "disc_sample_means, non_disc_sample_means = hf.sampling_means(data1=disc_vals, data2=non_disc_vals)"
   ]
  },
  {
   "cell_type": "code",
   "execution_count": 12,
   "metadata": {
    "ExecuteTime": {
     "end_time": "2019-11-13T14:43:45.416560Z",
     "start_time": "2019-11-13T14:43:45.399605Z"
    }
   },
   "outputs": [
    {
     "name": "stdout",
     "output_type": "stream",
     "text": [
      "p= 0.6010640859603882\n",
      " The data is normally distributed.\n",
      "p= 0.9130720496177673\n",
      " The data is normally distributed.\n",
      "p= 0.018042947589795362\n",
      " Variances are not equal.\n"
     ]
    },
    {
     "data": {
      "text/plain": [
       "False"
      ]
     },
     "execution_count": 12,
     "metadata": {},
     "output_type": "execute_result"
    }
   ],
   "source": [
    "hf.test_normality(disc_sample_means)\n",
    "hf.test_normality(non_disc_sample_means)\n",
    "hf.test_equal_variance(disc_sample_means, non_disc_sample_means)"
   ]
  },
  {
   "cell_type": "markdown",
   "metadata": {},
   "source": [
    "Let's plot the sample means to visualize the relationship now."
   ]
  },
  {
   "cell_type": "code",
   "execution_count": 13,
   "metadata": {
    "ExecuteTime": {
     "end_time": "2019-11-13T14:43:46.405951Z",
     "start_time": "2019-11-13T14:43:46.077837Z"
    }
   },
   "outputs": [
    {
     "data": {
      "image/png": "[encoded data removed]",
      "text/plain": [
       "<Figure size 936x576 with 1 Axes>"
      ]
     },
     "metadata": {
      "needs_background": "light"
     },
     "output_type": "display_data"
    }
   ],
   "source": [
    "hf.get_hist(data1=disc_sample_means, data2=non_disc_sample_means, label1='Discounted', label2='Non Discounted', gr_label_x='NUmber Ordered', gr_label_y='Counts', bins=20)"
   ]
  },
  {
   "cell_type": "markdown",
   "metadata": {},
   "source": [
    "#### It appears that we were successful in our attempt to get normally distributed data. \n",
    "Now we can begin to run tests on our hypothesis.\n",
    "We will begin with a TTest\n",
    "- H0 : µ1==µ2\n",
    "- HA : µ1!-µ2\n"
   ]
  },
  {
   "cell_type": "code",
   "execution_count": 14,
   "metadata": {
    "ExecuteTime": {
     "end_time": "2019-11-13T14:43:46.646311Z",
     "start_time": "2019-11-13T14:43:46.639326Z"
    }
   },
   "outputs": [
    {
     "data": {
      "text/plain": [
       "Ttest_indResult(statistic=37.71787284813854, pvalue=1.67159617905503e-42)"
      ]
     },
     "execution_count": 14,
     "metadata": {},
     "output_type": "execute_result"
    }
   ],
   "source": [
    "scs.ttest_ind(disc_sample_means, non_disc_sample_means)"
   ]
  },
  {
   "cell_type": "markdown",
   "metadata": {},
   "source": [
    "With a p value of 0 we can conclude that our means are not equal, thus **rejecting our null hypothesis, H0**"
   ]
  },
  {
   "cell_type": "markdown",
   "metadata": {},
   "source": [
    "We will test this using the mean and the sample standard deviation"
   ]
  },
  {
   "cell_type": "code",
   "execution_count": 15,
   "metadata": {
    "ExecuteTime": {
     "end_time": "2019-11-13T14:43:48.339825Z",
     "start_time": "2019-11-13T14:43:48.334841Z"
    }
   },
   "outputs": [],
   "source": [
    "disc_mean = np.mean(disc_sample_means)\n",
    "disc_std = np.std(disc_sample_means, ddof=1)\n",
    "\n",
    "non_disc_mean = np.mean(non_disc_sample_means)\n",
    "non_disc_std = np.std(non_disc_sample_means, ddof=1)"
   ]
  },
  {
   "cell_type": "code",
   "execution_count": 16,
   "metadata": {
    "ExecuteTime": {
     "end_time": "2019-11-13T14:43:48.694900Z",
     "start_time": "2019-11-13T14:43:48.690888Z"
    }
   },
   "outputs": [],
   "source": [
    "samp_disc = np.random.normal(loc=disc_mean, scale=disc_std, size=100)\n",
    "samp_non_disc = np.random.normal(loc=non_disc_mean, scale=non_disc_std, size=100)"
   ]
  },
  {
   "cell_type": "code",
   "execution_count": 17,
   "metadata": {
    "ExecuteTime": {
     "end_time": "2019-11-13T14:43:49.431905Z",
     "start_time": "2019-11-13T14:43:49.029980Z"
    }
   },
   "outputs": [
    {
     "data": {
      "image/png": "[encoded data removed]",
      "text/plain": [
       "<Figure size 936x576 with 1 Axes>"
      ]
     },
     "metadata": {
      "needs_background": "light"
     },
     "output_type": "display_data"
    }
   ],
   "source": [
    "hf.get_hist(samp_disc, samp_non_disc, 'Discounted', 'Non-Discounted', 'Number Ordered', 'Value', bins=30)"
   ]
  },
  {
   "cell_type": "markdown",
   "metadata": {},
   "source": [
    "### Clearly, from this graph we can see that discount has an effect on order quantity.\n",
    "we will confirm this with a TTest."
   ]
  },
  {
   "cell_type": "code",
   "execution_count": 18,
   "metadata": {
    "ExecuteTime": {
     "end_time": "2019-11-13T14:43:49.750120Z",
     "start_time": "2019-11-13T14:43:49.744067Z"
    }
   },
   "outputs": [
    {
     "data": {
      "text/plain": [
       "Ttest_indResult(statistic=37.71787284813854, pvalue=1.67159617905503e-42)"
      ]
     },
     "execution_count": 18,
     "metadata": {},
     "output_type": "execute_result"
    }
   ],
   "source": [
    "scs.ttest_ind(disc_sample_means, non_disc_sample_means)"
   ]
  },
  {
   "cell_type": "code",
   "execution_count": 19,
   "metadata": {
    "ExecuteTime": {
     "end_time": "2019-11-13T14:43:50.091817Z",
     "start_time": "2019-11-13T14:43:50.084835Z"
    }
   },
   "outputs": [
    {
     "data": {
      "text/plain": [
       "9.738712893013965"
      ]
     },
     "execution_count": 19,
     "metadata": {},
     "output_type": "execute_result"
    }
   ],
   "source": [
    "e_size = hf.calc_effect(disc_sample_means, non_disc_sample_means)\n",
    "e_size"
   ]
  },
  {
   "cell_type": "code",
   "execution_count": 20,
   "metadata": {
    "ExecuteTime": {
     "end_time": "2019-11-13T14:43:50.306759Z",
     "start_time": "2019-11-13T14:43:50.289801Z"
    }
   },
   "outputs": [
    {
     "data": {
      "text/plain": [
       "1.0"
      ]
     },
     "execution_count": 20,
     "metadata": {},
     "output_type": "execute_result"
    }
   ],
   "source": [
    "power = tt_ind_solve_power(effect_size=e_size, nobs1=100, alpha=0.05)\n",
    "power"
   ]
  },
  {
   "cell_type": "markdown",
   "metadata": {},
   "source": [
    "Given the above effect size we can __reject our null hypothesis, H0__ and proceed to investigate at which level discount is significant."
   ]
  },
  {
   "cell_type": "markdown",
   "metadata": {},
   "source": [
    "# Run tests on the data organized by discount level.\n",
    "- Now we will investigate the different discount levels to see which is the most effective at driving up the order quantity."
   ]
  },
  {
   "cell_type": "markdown",
   "metadata": {
    "ExecuteTime": {
     "end_time": "2019-11-04T05:16:54.468280Z",
     "start_time": "2019-11-04T05:16:54.461299Z"
    }
   },
   "source": [
    "for this part we will use the following hypotheses:\n",
    "- H0 : µ1==µ2==µ3==µ4==µ5 - all of the means are equal and have equal effect\n",
    "- HA : µ1!-µ2!=µ3!=µ4!=µ5 - at least one of the means has more effect than the others"
   ]
  },
  {
   "cell_type": "markdown",
   "metadata": {},
   "source": [
    "First, we will drop the orders with no discount and the insignificant levels as well."
   ]
  },
  {
   "cell_type": "code",
   "execution_count": 21,
   "metadata": {
    "ExecuteTime": {
     "end_time": "2019-11-13T14:43:52.301124Z",
     "start_time": "2019-11-13T14:43:52.270177Z"
    }
   },
   "outputs": [
    {
     "data": {
      "text/html": [
       "<div>\n",
       "<style scoped>\n",
       "    .dataframe tbody tr th:only-of-type {\n",
       "        vertical-align: middle;\n",
       "    }\n",
       "\n",
       "    .dataframe tbody tr th {\n",
       "        vertical-align: top;\n",
       "    }\n",
       "\n",
       "    .dataframe thead th {\n",
       "        text-align: right;\n",
       "    }\n",
       "</style>\n",
       "<table border=\"1\" class=\"dataframe\">\n",
       "  <thead>\n",
       "    <tr style=\"text-align: right;\">\n",
       "      <th></th>\n",
       "      <th>Id</th>\n",
       "      <th>OrderId</th>\n",
       "      <th>ProductId</th>\n",
       "      <th>UnitPrice</th>\n",
       "      <th>Quantity</th>\n",
       "      <th>Discount</th>\n",
       "      <th>discounted</th>\n",
       "    </tr>\n",
       "  </thead>\n",
       "  <tbody>\n",
       "    <tr>\n",
       "      <th>6</th>\n",
       "      <td>10250/51</td>\n",
       "      <td>10250</td>\n",
       "      <td>51</td>\n",
       "      <td>42.4</td>\n",
       "      <td>35</td>\n",
       "      <td>0.15</td>\n",
       "      <td>1</td>\n",
       "    </tr>\n",
       "    <tr>\n",
       "      <th>7</th>\n",
       "      <td>10250/65</td>\n",
       "      <td>10250</td>\n",
       "      <td>65</td>\n",
       "      <td>16.8</td>\n",
       "      <td>15</td>\n",
       "      <td>0.15</td>\n",
       "      <td>1</td>\n",
       "    </tr>\n",
       "    <tr>\n",
       "      <th>8</th>\n",
       "      <td>10251/22</td>\n",
       "      <td>10251</td>\n",
       "      <td>22</td>\n",
       "      <td>16.8</td>\n",
       "      <td>6</td>\n",
       "      <td>0.05</td>\n",
       "      <td>1</td>\n",
       "    </tr>\n",
       "    <tr>\n",
       "      <th>9</th>\n",
       "      <td>10251/57</td>\n",
       "      <td>10251</td>\n",
       "      <td>57</td>\n",
       "      <td>15.6</td>\n",
       "      <td>15</td>\n",
       "      <td>0.05</td>\n",
       "      <td>1</td>\n",
       "    </tr>\n",
       "    <tr>\n",
       "      <th>11</th>\n",
       "      <td>10252/20</td>\n",
       "      <td>10252</td>\n",
       "      <td>20</td>\n",
       "      <td>64.8</td>\n",
       "      <td>40</td>\n",
       "      <td>0.05</td>\n",
       "      <td>1</td>\n",
       "    </tr>\n",
       "    <tr>\n",
       "      <th>12</th>\n",
       "      <td>10252/33</td>\n",
       "      <td>10252</td>\n",
       "      <td>33</td>\n",
       "      <td>2.0</td>\n",
       "      <td>25</td>\n",
       "      <td>0.05</td>\n",
       "      <td>1</td>\n",
       "    </tr>\n",
       "    <tr>\n",
       "      <th>17</th>\n",
       "      <td>10254/24</td>\n",
       "      <td>10254</td>\n",
       "      <td>24</td>\n",
       "      <td>3.6</td>\n",
       "      <td>15</td>\n",
       "      <td>0.15</td>\n",
       "      <td>1</td>\n",
       "    </tr>\n",
       "    <tr>\n",
       "      <th>18</th>\n",
       "      <td>10254/55</td>\n",
       "      <td>10254</td>\n",
       "      <td>55</td>\n",
       "      <td>19.2</td>\n",
       "      <td>21</td>\n",
       "      <td>0.15</td>\n",
       "      <td>1</td>\n",
       "    </tr>\n",
       "    <tr>\n",
       "      <th>29</th>\n",
       "      <td>10258/2</td>\n",
       "      <td>10258</td>\n",
       "      <td>2</td>\n",
       "      <td>15.2</td>\n",
       "      <td>50</td>\n",
       "      <td>0.20</td>\n",
       "      <td>1</td>\n",
       "    </tr>\n",
       "    <tr>\n",
       "      <th>30</th>\n",
       "      <td>10258/5</td>\n",
       "      <td>10258</td>\n",
       "      <td>5</td>\n",
       "      <td>17.0</td>\n",
       "      <td>65</td>\n",
       "      <td>0.20</td>\n",
       "      <td>1</td>\n",
       "    </tr>\n",
       "  </tbody>\n",
       "</table>\n",
       "</div>"
      ],
      "text/plain": [
       "          Id  OrderId  ProductId  UnitPrice  Quantity  Discount  discounted\n",
       "6   10250/51    10250         51       42.4        35      0.15           1\n",
       "7   10250/65    10250         65       16.8        15      0.15           1\n",
       "8   10251/22    10251         22       16.8         6      0.05           1\n",
       "9   10251/57    10251         57       15.6        15      0.05           1\n",
       "11  10252/20    10252         20       64.8        40      0.05           1\n",
       "12  10252/33    10252         33        2.0        25      0.05           1\n",
       "17  10254/24    10254         24        3.6        15      0.15           1\n",
       "18  10254/55    10254         55       19.2        21      0.15           1\n",
       "29   10258/2    10258          2       15.2        50      0.20           1\n",
       "30   10258/5    10258          5       17.0        65      0.20           1"
      ]
     },
     "execution_count": 21,
     "metadata": {},
     "output_type": "execute_result"
    }
   ],
   "source": [
    "\n",
    "df2 = df\n",
    "df2 = df2.drop(df2[(df2['Discount'] ==.00)].index)\n",
    "df2 = df2.drop(df2[(df2['Discount'] ==.01)].index)\n",
    "df2 = df2.drop(df2[(df2['Discount'] ==.02)].index)\n",
    "df2 = df2.drop(df2[(df2['Discount'] ==.03)].index)\n",
    "df2 = df2.drop(df2[(df2['Discount'] ==.04)].index)\n",
    "df2 = df2.drop(df2[(df2['Discount'] ==.06)].index)\n",
    "df2.head(10)"
   ]
  },
  {
   "cell_type": "markdown",
   "metadata": {},
   "source": [
    "Lets visualize the data"
   ]
  },
  {
   "cell_type": "code",
   "execution_count": 22,
   "metadata": {
    "ExecuteTime": {
     "end_time": "2019-11-13T14:43:53.460079Z",
     "start_time": "2019-11-13T14:43:52.683581Z"
    }
   },
   "outputs": [
    {
     "data": {
      "text/plain": [
       "array([[<matplotlib.axes._subplots.AxesSubplot object at 0x00000210037A7E80>,\n",
       "        <matplotlib.axes._subplots.AxesSubplot object at 0x00000210037F6278>],\n",
       "       [<matplotlib.axes._subplots.AxesSubplot object at 0x0000021003819780>,\n",
       "        <matplotlib.axes._subplots.AxesSubplot object at 0x00000210049EFCF8>],\n",
       "       [<matplotlib.axes._subplots.AxesSubplot object at 0x0000021004A1F2B0>,\n",
       "        <matplotlib.axes._subplots.AxesSubplot object at 0x0000021004A47828>]],\n",
       "      dtype=object)"
      ]
     },
     "execution_count": 22,
     "metadata": {},
     "output_type": "execute_result"
    },
    {
     "data": {
      "image/png": "[encoded data removed]",
      "text/plain": [
       "<Figure size 576x576 with 6 Axes>"
      ]
     },
     "metadata": {
      "needs_background": "light"
     },
     "output_type": "display_data"
    }
   ],
   "source": [
    "df2.hist('Quantity', by='Discount', figsize=(8,8))"
   ]
  },
  {
   "cell_type": "markdown",
   "metadata": {},
   "source": [
    "From the graphs above, we can see that the data is normalish in each discount level, but skewed to the left."
   ]
  },
  {
   "cell_type": "markdown",
   "metadata": {},
   "source": [
    "Lets use the Shapiro test to see if the data is normal"
   ]
  },
  {
   "cell_type": "code",
   "execution_count": 23,
   "metadata": {
    "ExecuteTime": {
     "end_time": "2019-11-13T14:43:53.592724Z",
     "start_time": "2019-11-13T14:43:53.570783Z"
    }
   },
   "outputs": [
    {
     "name": "stdout",
     "output_type": "stream",
     "text": [
      "p= 3.5543719660233175e-13\n",
      " The data is not normally distributed.\n",
      "p= 4.159971249851485e-14\n",
      " The data is not normally distributed.\n",
      "p= 8.372069704165597e-10\n",
      " The data is not normally distributed.\n",
      "p= 3.249125413162801e-08\n",
      " The data is not normally distributed.\n",
      "p= 2.6962121424389807e-09\n",
      " The data is not normally distributed.\n"
     ]
    },
    {
     "data": {
      "text/plain": [
       "False"
      ]
     },
     "execution_count": 23,
     "metadata": {},
     "output_type": "execute_result"
    }
   ],
   "source": [
    "disc_05 = df2.loc[df2.Discount == 0.05, 'Quantity']\n",
    "disc_10 = df2.loc[df2.Discount == 0.1, 'Quantity']\n",
    "disc_15 = df2.loc[df2.Discount == 0.15, 'Quantity']\n",
    "disc_20 = df2.loc[df2.Discount == 0.2, 'Quantity']\n",
    "disc_25 = df2.loc[df2.Discount == 0.25, 'Quantity']\n",
    "\n",
    "hf.test_normality(disc_05)\n",
    "hf.test_normality(disc_10)\n",
    "hf.test_normality(disc_15)\n",
    "hf.test_normality(disc_20)\n",
    "hf.test_normality(disc_25)"
   ]
  },
  {
   "cell_type": "code",
   "execution_count": 24,
   "metadata": {
    "ExecuteTime": {
     "end_time": "2019-11-13T14:43:54.107346Z",
     "start_time": "2019-11-13T14:43:53.742323Z"
    }
   },
   "outputs": [
    {
     "data": {
      "image/png": "[encoded data removed]",
      "text/plain": [
       "<Figure size 432x288 with 1 Axes>"
      ]
     },
     "metadata": {
      "needs_background": "light"
     },
     "output_type": "display_data"
    }
   ],
   "source": [
    "plt.hist(disc_05)\n",
    "plt.hist(disc_10)\n",
    "plt.hist(disc_15)\n",
    "plt.hist(disc_20)\n",
    "plt.hist(disc_25);"
   ]
  },
  {
   "cell_type": "markdown",
   "metadata": {
    "ExecuteTime": {
     "end_time": "2019-11-04T02:58:39.138741Z",
     "start_time": "2019-11-04T02:58:35.461Z"
    }
   },
   "source": [
    "Since the data are not normally distributed, we will need to do some sampling to work with it.\n"
   ]
  },
  {
   "cell_type": "code",
   "execution_count": 25,
   "metadata": {
    "ExecuteTime": {
     "end_time": "2019-11-13T14:43:54.360798Z",
     "start_time": "2019-11-13T14:43:54.347706Z"
    }
   },
   "outputs": [],
   "source": [
    "disc_05mean = np.mean(disc_05)\n",
    "disc_05std = np.std(disc_05, ddof=1)\n",
    "\n",
    "samp_disc05 = np.random.normal(loc=disc_05mean, scale=disc_05std, size=100)\n",
    "\n",
    "disc_10mean = np.mean(disc_10)\n",
    "disc_10std = np.std(disc_10, ddof=1)\n",
    "\n",
    "samp_disc10 = np.random.normal(loc=disc_10mean, scale=disc_10std, size=100)\n",
    "\n",
    "disc_15mean = np.mean(disc_15)\n",
    "disc_15std = np.std(disc_15, ddof=1)\n",
    "\n",
    "samp_disc15 = np.random.normal(loc=disc_15mean, scale=disc_15std, size=100)\n",
    "\n",
    "disc_20mean = np.mean(disc_20)\n",
    "disc_20std = np.std(disc_20, ddof=1)\n",
    "\n",
    "samp_disc20 = np.random.normal(loc=disc_20mean, scale=disc_20std, size=100)\n",
    "\n",
    "disc_25mean = np.mean(disc_25)\n",
    "disc_25std = np.std(disc_25, ddof=1)\n",
    "\n",
    "samp_disc25 = np.random.normal(loc=disc_25mean, scale=disc_25std, size=100)"
   ]
  },
  {
   "cell_type": "code",
   "execution_count": 26,
   "metadata": {
    "ExecuteTime": {
     "end_time": "2019-11-13T14:43:54.562129Z",
     "start_time": "2019-11-13T14:43:54.553153Z"
    }
   },
   "outputs": [
    {
     "name": "stdout",
     "output_type": "stream",
     "text": [
      "p= 0.645414412021637\n",
      " The data is normally distributed.\n",
      "p= 0.9969398975372314\n",
      " The data is normally distributed.\n",
      "p= 0.5766535997390747\n",
      " The data is normally distributed.\n",
      "p= 0.01829749159514904\n",
      " The data is not normally distributed.\n",
      "p= 0.5840601325035095\n",
      " The data is normally distributed.\n"
     ]
    },
    {
     "data": {
      "text/plain": [
       "True"
      ]
     },
     "execution_count": 26,
     "metadata": {},
     "output_type": "execute_result"
    }
   ],
   "source": [
    "hf.test_normality(samp_disc05)\n",
    "hf.test_normality(samp_disc10)\n",
    "hf.test_normality(samp_disc15)\n",
    "hf.test_normality(samp_disc20)\n",
    "hf.test_normality(samp_disc25)"
   ]
  },
  {
   "cell_type": "code",
   "execution_count": 27,
   "metadata": {
    "ExecuteTime": {
     "end_time": "2019-11-13T14:43:56.235616Z",
     "start_time": "2019-11-13T14:43:55.668138Z"
    }
   },
   "outputs": [
    {
     "name": "stderr",
     "output_type": "stream",
     "text": [
      "C:\\Users\\Owner\\Anaconda3\\envs\\learn-env\\lib\\site-packages\\scipy\\stats\\stats.py:1713: FutureWarning: Using a non-tuple sequence for multidimensional indexing is deprecated; use `arr[tuple(seq)]` instead of `arr[seq]`. In the future this will be interpreted as an array index, `arr[np.array(seq)]`, which will result either in an error or a different result.\n",
      "  return np.add.reduce(sorted[indexer] * weights, axis=axis) / sumval\n"
     ]
    },
    {
     "data": {
      "image/png": "[encoded data removed]",
      "text/plain": [
       "<Figure size 432x288 with 1 Axes>"
      ]
     },
     "metadata": {
      "needs_background": "light"
     },
     "output_type": "display_data"
    }
   ],
   "source": [
    "sns.distplot(samp_disc05, bins=30)\n",
    "sns.distplot(samp_disc10, bins=30)\n",
    "sns.distplot(samp_disc15, bins=30)\n",
    "sns.distplot(samp_disc20, bins=30)\n",
    "sns.distplot(samp_disc25, bins=30);"
   ]
  },
  {
   "cell_type": "markdown",
   "metadata": {},
   "source": [
    "Now that our data is normally distributed, we will continue with our tests\n",
    "Here we will test the effect of each discount against the non-discounted sample"
   ]
  },
  {
   "cell_type": "code",
   "execution_count": 28,
   "metadata": {
    "ExecuteTime": {
     "end_time": "2019-11-13T14:43:59.654825Z",
     "start_time": "2019-11-13T14:43:59.647846Z"
    }
   },
   "outputs": [
    {
     "name": "stdout",
     "output_type": "stream",
     "text": [
      ".05\n",
      "0.3050093006985778\n",
      ".10\n",
      "0.18441023282181945\n",
      ".15\n",
      "0.43284339253042986\n",
      ".20\n",
      "0.3423464570908123\n",
      ".25\n",
      "0.41937241341359344\n"
     ]
    }
   ],
   "source": [
    "print('.05')\n",
    "e_05 = hf.calc_effect(samp_disc05, non_disc_sample_means)\n",
    "print(e_05)\n",
    "print('.10')\n",
    "e_10 = hf.calc_effect(samp_disc10, non_disc_sample_means)\n",
    "print(e_10)\n",
    "print('.15')\n",
    "e_15 = hf.calc_effect(samp_disc15, non_disc_sample_means)\n",
    "print(e_15)\n",
    "print('.20')\n",
    "e_20 = hf.calc_effect(samp_disc20, non_disc_sample_means)\n",
    "print(e_20)\n",
    "print('.25')\n",
    "e_25 = hf.calc_effect(samp_disc25, non_disc_sample_means)\n",
    "print(e_25)"
   ]
  },
  {
   "cell_type": "markdown",
   "metadata": {},
   "source": [
    "From these effect sizes, it looks like 20& is the most effective discount, with 15% close behind. "
   ]
  },
  {
   "cell_type": "code",
   "execution_count": 29,
   "metadata": {
    "ExecuteTime": {
     "end_time": "2019-11-13T14:44:00.633267Z",
     "start_time": "2019-11-13T14:44:00.623294Z"
    }
   },
   "outputs": [
    {
     "name": "stdout",
     "output_type": "stream",
     "text": [
      "0.5739187524973286\n",
      "0.25444883390739653\n",
      "0.8612215230036058\n",
      "0.6733032584591414\n",
      "0.8391658720416506\n"
     ]
    }
   ],
   "source": [
    "power05 = tt_ind_solve_power(effect_size=e_05, nobs1=100, alpha=0.05)\n",
    "print(power05)\n",
    "power10 = tt_ind_solve_power(effect_size=e_10, nobs1=100, alpha=0.05)\n",
    "print(power10)\n",
    "power15 = tt_ind_solve_power(effect_size=e_15, nobs1=100, alpha=0.05)\n",
    "print(power15)\n",
    "power20 = tt_ind_solve_power(effect_size=e_20, nobs1=100, alpha=0.05)\n",
    "print(power20)\n",
    "power25 = tt_ind_solve_power(effect_size=e_25, nobs1=100, alpha=0.05)\n",
    "print(power25)"
   ]
  },
  {
   "cell_type": "markdown",
   "metadata": {},
   "source": [
    "#### Conclusion:\n",
    "- As a result of the analysis, we can __REJECT the null H0__<br>\n",
    "- The discount level that shows the most effect is 20%, but with 15% almost equally as effective, it would make sense to use a discount of 15% since it would have the same increase on quantity and reduce the profit least between the two discount levels."
   ]
  },
  {
   "cell_type": "markdown",
   "metadata": {},
   "source": [
    "#### Recommendations:\n",
    "- the company should drop all discounts below 10%\n",
    "- The company should offer discount of 15% on products that increased quantity sold is desired."
   ]
  },
  {
   "cell_type": "code",
   "execution_count": null,
   "metadata": {},
   "outputs": [],
   "source": []
  }
 ],
 "metadata": {
  "kernelspec": {
   "display_name": "Python [conda env:learn-env] *",
   "language": "python",
   "name": "conda-env-learn-env-py"
  },
  "language_info": {
   "codemirror_mode": {
    "name": "ipython",
    "version": 3
   },
   "file_extension": ".py",
   "mimetype": "text/x-python",
   "name": "python",
   "nbconvert_exporter": "python",
   "pygments_lexer": "ipython3",
   "version": "3.6.6"
  },
  "toc": {
   "base_numbering": 1,
   "nav_menu": {},
   "number_sections": false,
   "sideBar": true,
   "skip_h1_title": false,
   "title_cell": "Table of Contents",
   "title_sidebar": "Contents",
   "toc_cell": false,
   "toc_position": {},
   "toc_section_display": true,
   "toc_window_display": false
  },
  "varInspector": {
   "cols": {
    "lenName": 16,
    "lenType": 16,
    "lenVar": 40
   },
   "kernels_config": {
    "python": {
     "delete_cmd_postfix": "",
     "delete_cmd_prefix": "del ",
     "library": "var_list.py",
     "varRefreshCmd": "print(var_dic_list())"
    },
    "r": {
     "delete_cmd_postfix": ") ",
     "delete_cmd_prefix": "rm(",
     "library": "var_list.r",
     "varRefreshCmd": "cat(var_dic_list()) "
    }
   },
   "position": {
    "height": "583px",
    "left": "22px",
    "right": "20px",
    "top": "204px",
    "width": "346px"
   },
   "types_to_exclude": [
    "module",
    "function",
    "builtin_function_or_method",
    "instance",
    "_Feature"
   ],
   "window_display": false
  }
 },
 "nbformat": 4,
 "nbformat_minor": 2
}
